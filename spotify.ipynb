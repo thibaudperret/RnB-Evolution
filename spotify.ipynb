{
 "cells": [
  {
   "cell_type": "code",
   "execution_count": 1,
   "metadata": {},
   "outputs": [],
   "source": [
    "import requests\n",
    "import urllib.request\n",
    "from urllib.parse import quote\n",
    "import numpy as np\n",
    "from tqdm import tqdm\n",
    "#import contextlibr\n",
    "import collections\n",
    "import os\n",
    "import json\n",
    "import tqdm\n",
    "from bs4 import BeautifulSoup as bs\n",
    "import time\n",
    "import matplotlib.pyplot as plt\n",
    "from matplotlib.pyplot import figure\n",
    "from sklearn.feature_selection import RFE\n",
    "from sklearn.linear_model import LogisticRegression\n",
    "import collections\n",
    "import pandas as pd"
   ]
  },
  {
   "cell_type": "markdown",
   "metadata": {},
   "source": [
    "### Set up spotify scrapping functions"
   ]
  },
  {
   "cell_type": "code",
   "execution_count": 2,
   "metadata": {},
   "outputs": [],
   "source": [
    "token = 'BQBZkKTnx8fm6FqX3sf7hHJWOKEMBo3tW1RgF7Au3R9TrhJ74kFK8_L2gsfcwg4kvNm3QiYoDrIpGf0faSNzmOcPdMyQ6D1g0AXZGQRaMQFU1-LJKUSKnXn1HsxkvGaASoLLUrhg3T9EetgXlL-lbWNy5K4'\n",
    "\n",
    "header = {\n",
    "    'Authorization': 'Bearer ' + token,\n",
    "    'Accept': 'application/json',\n",
    "    'Content-Type': 'application/json'\n",
    "}"
   ]
  },
  {
   "cell_type": "code",
   "execution_count": 3,
   "metadata": {},
   "outputs": [],
   "source": [
    "final_json = []\n",
    "intermediary_results = []"
   ]
  },
  {
   "cell_type": "code",
   "execution_count": 29,
   "metadata": {},
   "outputs": [],
   "source": [
    "def song_features(song_id):\n",
    "    query = 'audio-features/' + str(song_id)\n",
    "    r = requests.request('get', 'https://api.spotify.com/v1/' + query, headers=header)\n",
    "    return r.json()\n",
    "\n",
    "\n",
    "def get_rateYourMusic_tuples(filenames, table_index=3) :\n",
    "    \n",
    "    #song year, artist and title\n",
    "    searches = []\n",
    "    \n",
    "    for f in filenames :\n",
    "\n",
    "        res = bs(open(f),\"html5lib\")\n",
    "        for t in res.findAll(attrs={'class': \"mbgen\"})[table_index].findAll(\"tr\")[1:] :\n",
    "                        \n",
    "            if len(t.findAll(\"td\")) >= 3 :\n",
    "                \n",
    "                \n",
    "            \n",
    "                year = t.findAll(\"td\")[0].text\n",
    "                artist = t.findAll(\"td\")[1].text\n",
    "                title = t.findAll(\"td\")[2].text\n",
    "\n",
    "                if '/' in title :\n",
    "                    searches.append([year, artist, title.split('/')[0].strip()])\n",
    "                    searches.append([year, artist, title.split('/')[1].strip()])\n",
    "\n",
    "                else :\n",
    "                    searches.append([year, artist, title])\n",
    "\n",
    "    return searches\n",
    "\n",
    "def search_tuples(genre, searches) :\n",
    "    \n",
    "    found = 0\n",
    "    all_info = []\n",
    "\n",
    "    for e, s in tqdm.tqdm(enumerate(searches)) :\n",
    "        result  = requests.request('get', 'https://api.spotify.com/v1/search?q=album:'+ quote(s[2]) + \"%20artist:\" + quote(s[1]) + \"&type=track\", headers=header).json()\n",
    "        time.sleep(0.3)\n",
    "        items = result['tracks']['items']\n",
    "        \n",
    "        \n",
    "        #We found the song\n",
    "        if len(items) != 0 and ('error' not in result.keys()) :           \n",
    "            \n",
    "            album_type = result['tracks']['items'][0]['album']['album_type']\n",
    "            \n",
    "            #the song does not come from a compilation\n",
    "            if album_type != 'compilation' :\n",
    "            \n",
    "                album = result['tracks']['items'][0]['album']['name']\n",
    "                name = result['tracks']['items'][0]['name']\n",
    "\n",
    "                song_id = result['tracks']['items'][0]['id']   \n",
    "                song_release = items[0]['album']['release_date']\n",
    "                features = song_features(song_id)\n",
    "\n",
    "                if 'error' not in features.keys() :\n",
    "\n",
    "                    found += 1\n",
    "\n",
    "                    #get the preview url\n",
    "                    result_preview  = requests.request('get', \"https://api.spotify.com/v1/tracks/\" + str(song_id), headers=header).json()\n",
    "                    time.sleep(0.3)\n",
    "                    preview = result_preview['preview_url']\n",
    "\n",
    "                    if preview is None :\n",
    "                        preview = \"\"\n",
    "\n",
    "                    \n",
    "                    cover = \"\"\n",
    "\n",
    "                    if len(items[0]['album']['images']) != 0 :                \n",
    "                        cover = items[0]['album']['images'][0]['url']            \n",
    "                    else :\n",
    "                        cover = \"https://vignette.wikia.nocookie.net/uncyclopedia/images/a/a0/Questionmark.jpg/revision/latest?cb=20090616065802&format=original\"\n",
    "\n",
    "                    artists = s[1]\n",
    "\n",
    "\n",
    "\n",
    "                    song_dict = {'year' : song_release,\n",
    "                                 'artists' : artists,\n",
    "                                 'name' : name,\n",
    "                                 'cover' : cover,\n",
    "                                 'album' : album,\n",
    "                                 'genre' : genre,\n",
    "                                'danceability' : features['danceability'],\n",
    "                                'energy' : features['energy'],\n",
    "                                'key' : features['key'],\n",
    "                                'loudness' : features['loudness'],\n",
    "                                'mode' : features['mode'],\n",
    "                                'speechiness' : features['speechiness'],\n",
    "                                'acousticness' : features['acousticness'],\n",
    "                                'instrumentalness' : features['instrumentalness'],\n",
    "                                'liveness' : features['liveness'],\n",
    "                                'valence' : features['valence'],\n",
    "                                'tempo' : features['tempo'],\n",
    "                                'duration_ms' : features['duration_ms'],\n",
    "                                'preview' : preview}\n",
    "\n",
    "\n",
    "                    all_info.append(song_dict)\n",
    "                    \n",
    "            \n",
    "                \n",
    "    print(\"found : \", found , \", (\" + str(100*found/len(searches)) + \"%) for genre \" + genre)\n",
    "    return all_info\n",
    "\n",
    "def get_album_features(album_name, artist) :\n",
    "    \n",
    "    #album id\n",
    "    album_result = requests.request('get', 'https://api.spotify.com/v1/search?q=album:'+ quote(album_name) + \"%20artist:\" + quote(artist) + \"&type=album\", headers=header).json()\n",
    "    album_id = album_result['albums']['items'][0]['id']\n",
    "    \n",
    "    #album ids\n",
    "    album_tracks = requests.request('get', 'https://api.spotify.com/v1/albums/' + album_id + '/tracks', headers=header).json()\n",
    "    track_ids = [c['id'] for c in album_tracks['items']]\n",
    "        \n",
    "    #song features\n",
    "    features = []\n",
    "    for track_id in track_ids :\n",
    "        feature_dict = requests.request('get', 'https://api.spotify.com/v1/audio-features/'+track_id, headers=header).json()\n",
    "        features.append(feature)\n",
    "    \n",
    "    return features\n"
   ]
  },
  {
   "cell_type": "markdown",
   "metadata": {},
   "source": [
    "# classic albums"
   ]
  },
  {
   "cell_type": "code",
   "execution_count": 30,
   "metadata": {},
   "outputs": [
    {
     "data": {
      "text/plain": [
       "[{'danceability': 0.472,\n",
       "  'energy': 0.29,\n",
       "  'key': 9,\n",
       "  'loudness': -12.327,\n",
       "  'mode': 1,\n",
       "  'speechiness': 0.0957,\n",
       "  'acousticness': 0.403,\n",
       "  'instrumentalness': 0.000115,\n",
       "  'liveness': 0.199,\n",
       "  'valence': 0.126,\n",
       "  'tempo': 180.098,\n",
       "  'type': 'audio_features',\n",
       "  'id': '2gKZXeCTkQjblUQgnKF7Ow',\n",
       "  'uri': 'spotify:track:2gKZXeCTkQjblUQgnKF7Ow',\n",
       "  'track_href': 'https://api.spotify.com/v1/tracks/2gKZXeCTkQjblUQgnKF7Ow',\n",
       "  'analysis_url': 'https://api.spotify.com/v1/audio-analysis/2gKZXeCTkQjblUQgnKF7Ow',\n",
       "  'duration_ms': 251253,\n",
       "  'time_signature': 4},\n",
       " {'danceability': 0.644,\n",
       "  'energy': 0.811,\n",
       "  'key': 11,\n",
       "  'loudness': -7.681,\n",
       "  'mode': 1,\n",
       "  'speechiness': 0.0499,\n",
       "  'acousticness': 0.142,\n",
       "  'instrumentalness': 0.000629,\n",
       "  'liveness': 0.169,\n",
       "  'valence': 0.831,\n",
       "  'tempo': 154.903,\n",
       "  'type': 'audio_features',\n",
       "  'id': '7psPPGwhFzP3pyOcb3ivcT',\n",
       "  'uri': 'spotify:track:7psPPGwhFzP3pyOcb3ivcT',\n",
       "  'track_href': 'https://api.spotify.com/v1/tracks/7psPPGwhFzP3pyOcb3ivcT',\n",
       "  'analysis_url': 'https://api.spotify.com/v1/audio-analysis/7psPPGwhFzP3pyOcb3ivcT',\n",
       "  'duration_ms': 202667,\n",
       "  'time_signature': 4},\n",
       " {'danceability': 0.624,\n",
       "  'energy': 0.724,\n",
       "  'key': 10,\n",
       "  'loudness': -7.113,\n",
       "  'mode': 1,\n",
       "  'speechiness': 0.101,\n",
       "  'acousticness': 0.591,\n",
       "  'instrumentalness': 7.79e-06,\n",
       "  'liveness': 0.101,\n",
       "  'valence': 0.624,\n",
       "  'tempo': 78.008,\n",
       "  'type': 'audio_features',\n",
       "  'id': '78J9MBkAoqfvyeEpQKJDzD',\n",
       "  'uri': 'spotify:track:78J9MBkAoqfvyeEpQKJDzD',\n",
       "  'track_href': 'https://api.spotify.com/v1/tracks/78J9MBkAoqfvyeEpQKJDzD',\n",
       "  'analysis_url': 'https://api.spotify.com/v1/audio-analysis/78J9MBkAoqfvyeEpQKJDzD',\n",
       "  'duration_ms': 251627,\n",
       "  'time_signature': 4},\n",
       " {'danceability': 0.419,\n",
       "  'energy': 0.803,\n",
       "  'key': 11,\n",
       "  'loudness': -5.498,\n",
       "  'mode': 1,\n",
       "  'speechiness': 0.246,\n",
       "  'acousticness': 0.032,\n",
       "  'instrumentalness': 3.7e-05,\n",
       "  'liveness': 0.206,\n",
       "  'valence': 0.764,\n",
       "  'tempo': 86.958,\n",
       "  'type': 'audio_features',\n",
       "  'id': '104pmtTQOlmW8Zt2BipGKH',\n",
       "  'uri': 'spotify:track:104pmtTQOlmW8Zt2BipGKH',\n",
       "  'track_href': 'https://api.spotify.com/v1/tracks/104pmtTQOlmW8Zt2BipGKH',\n",
       "  'analysis_url': 'https://api.spotify.com/v1/audio-analysis/104pmtTQOlmW8Zt2BipGKH',\n",
       "  'duration_ms': 160067,\n",
       "  'time_signature': 4},\n",
       " {'danceability': 0.486,\n",
       "  'energy': 0.72,\n",
       "  'key': 0,\n",
       "  'loudness': -7.132,\n",
       "  'mode': 1,\n",
       "  'speechiness': 0.0304,\n",
       "  'acousticness': 0.45,\n",
       "  'instrumentalness': 0,\n",
       "  'liveness': 0.135,\n",
       "  'valence': 0.804,\n",
       "  'tempo': 180.112,\n",
       "  'type': 'audio_features',\n",
       "  'id': '2H6rj2XaBUJnag8iS2uKCt',\n",
       "  'uri': 'spotify:track:2H6rj2XaBUJnag8iS2uKCt',\n",
       "  'track_href': 'https://api.spotify.com/v1/tracks/2H6rj2XaBUJnag8iS2uKCt',\n",
       "  'analysis_url': 'https://api.spotify.com/v1/audio-analysis/2H6rj2XaBUJnag8iS2uKCt',\n",
       "  'duration_ms': 213413,\n",
       "  'time_signature': 4},\n",
       " {'danceability': 0.345,\n",
       "  'energy': 0.313,\n",
       "  'key': 4,\n",
       "  'loudness': -10.098,\n",
       "  'mode': 1,\n",
       "  'speechiness': 0.0681,\n",
       "  'acousticness': 0.717,\n",
       "  'instrumentalness': 0.000822,\n",
       "  'liveness': 0.1,\n",
       "  'valence': 0.164,\n",
       "  'tempo': 207.969,\n",
       "  'type': 'audio_features',\n",
       "  'id': '3t87C08isN6yw2DnWOorLm',\n",
       "  'uri': 'spotify:track:3t87C08isN6yw2DnWOorLm',\n",
       "  'track_href': 'https://api.spotify.com/v1/tracks/3t87C08isN6yw2DnWOorLm',\n",
       "  'analysis_url': 'https://api.spotify.com/v1/audio-analysis/3t87C08isN6yw2DnWOorLm',\n",
       "  'duration_ms': 237973,\n",
       "  'time_signature': 4},\n",
       " {'danceability': 0.664,\n",
       "  'energy': 0.702,\n",
       "  'key': 11,\n",
       "  'loudness': -8.072,\n",
       "  'mode': 1,\n",
       "  'speechiness': 0.188,\n",
       "  'acousticness': 0.472,\n",
       "  'instrumentalness': 0.00352,\n",
       "  'liveness': 0.107,\n",
       "  'valence': 0.526,\n",
       "  'tempo': 119.852,\n",
       "  'type': 'audio_features',\n",
       "  'id': '5WbmgRh4WP3dfmcrPUDY4O',\n",
       "  'uri': 'spotify:track:5WbmgRh4WP3dfmcrPUDY4O',\n",
       "  'track_href': 'https://api.spotify.com/v1/tracks/5WbmgRh4WP3dfmcrPUDY4O',\n",
       "  'analysis_url': 'https://api.spotify.com/v1/audio-analysis/5WbmgRh4WP3dfmcrPUDY4O',\n",
       "  'duration_ms': 183320,\n",
       "  'time_signature': 4},\n",
       " {'danceability': 0.668,\n",
       "  'energy': 0.822,\n",
       "  'key': 0,\n",
       "  'loudness': -4.861,\n",
       "  'mode': 1,\n",
       "  'speechiness': 0.0855,\n",
       "  'acousticness': 0.255,\n",
       "  'instrumentalness': 1.72e-05,\n",
       "  'liveness': 0.349,\n",
       "  'valence': 0.721,\n",
       "  'tempo': 100.934,\n",
       "  'type': 'audio_features',\n",
       "  'id': '5OLQo8LBsfh0LszlsyWlzL',\n",
       "  'uri': 'spotify:track:5OLQo8LBsfh0LszlsyWlzL',\n",
       "  'track_href': 'https://api.spotify.com/v1/tracks/5OLQo8LBsfh0LszlsyWlzL',\n",
       "  'analysis_url': 'https://api.spotify.com/v1/audio-analysis/5OLQo8LBsfh0LszlsyWlzL',\n",
       "  'duration_ms': 205960,\n",
       "  'time_signature': 4},\n",
       " {'danceability': 0.474,\n",
       "  'energy': 0.919,\n",
       "  'key': 11,\n",
       "  'loudness': -5.966,\n",
       "  'mode': 1,\n",
       "  'speechiness': 0.0779,\n",
       "  'acousticness': 0.00119,\n",
       "  'instrumentalness': 1.82e-06,\n",
       "  'liveness': 0.314,\n",
       "  'valence': 0.303,\n",
       "  'tempo': 149.055,\n",
       "  'type': 'audio_features',\n",
       "  'id': '5y02IcERVgEUItFLeeZDz6',\n",
       "  'uri': 'spotify:track:5y02IcERVgEUItFLeeZDz6',\n",
       "  'track_href': 'https://api.spotify.com/v1/tracks/5y02IcERVgEUItFLeeZDz6',\n",
       "  'analysis_url': 'https://api.spotify.com/v1/audio-analysis/5y02IcERVgEUItFLeeZDz6',\n",
       "  'duration_ms': 201240,\n",
       "  'time_signature': 4},\n",
       " {'danceability': 0.584,\n",
       "  'energy': 0.65,\n",
       "  'key': 11,\n",
       "  'loudness': -6.481,\n",
       "  'mode': 1,\n",
       "  'speechiness': 0.0427,\n",
       "  'acousticness': 0.179,\n",
       "  'instrumentalness': 0.000283,\n",
       "  'liveness': 0.0935,\n",
       "  'valence': 0.491,\n",
       "  'tempo': 92.01,\n",
       "  'type': 'audio_features',\n",
       "  'id': '4eE6vZ2vOrceLq4xgz3VmG',\n",
       "  'uri': 'spotify:track:4eE6vZ2vOrceLq4xgz3VmG',\n",
       "  'track_href': 'https://api.spotify.com/v1/tracks/4eE6vZ2vOrceLq4xgz3VmG',\n",
       "  'analysis_url': 'https://api.spotify.com/v1/audio-analysis/4eE6vZ2vOrceLq4xgz3VmG',\n",
       "  'duration_ms': 312653,\n",
       "  'time_signature': 4},\n",
       " {'danceability': 0.367,\n",
       "  'energy': 0.442,\n",
       "  'key': 2,\n",
       "  'loudness': -10.37,\n",
       "  'mode': 0,\n",
       "  'speechiness': 0.0644,\n",
       "  'acousticness': 0.565,\n",
       "  'instrumentalness': 0.000416,\n",
       "  'liveness': 0.135,\n",
       "  'valence': 0.23,\n",
       "  'tempo': 80.066,\n",
       "  'type': 'audio_features',\n",
       "  'id': '5eAjH216cLRo2rotXPTl3S',\n",
       "  'uri': 'spotify:track:5eAjH216cLRo2rotXPTl3S',\n",
       "  'track_href': 'https://api.spotify.com/v1/tracks/5eAjH216cLRo2rotXPTl3S',\n",
       "  'analysis_url': 'https://api.spotify.com/v1/audio-analysis/5eAjH216cLRo2rotXPTl3S',\n",
       "  'duration_ms': 254800,\n",
       "  'time_signature': 4},\n",
       " {'danceability': 0.272,\n",
       "  'energy': 0.232,\n",
       "  'key': 10,\n",
       "  'loudness': -11.018,\n",
       "  'mode': 1,\n",
       "  'speechiness': 0.0397,\n",
       "  'acousticness': 0.918,\n",
       "  'instrumentalness': 0.0236,\n",
       "  'liveness': 0.113,\n",
       "  'valence': 0.377,\n",
       "  'tempo': 180.314,\n",
       "  'type': 'audio_features',\n",
       "  'id': '570ocPyYy6lgJPnPAo66cZ',\n",
       "  'uri': 'spotify:track:570ocPyYy6lgJPnPAo66cZ',\n",
       "  'track_href': 'https://api.spotify.com/v1/tracks/570ocPyYy6lgJPnPAo66cZ',\n",
       "  'analysis_url': 'https://api.spotify.com/v1/audio-analysis/570ocPyYy6lgJPnPAo66cZ',\n",
       "  'duration_ms': 105360,\n",
       "  'time_signature': 3}]"
      ]
     },
     "execution_count": 30,
     "metadata": {},
     "output_type": "execute_result"
    }
   ],
   "source": [
    "get_album_features('Modern Vampires of the city', 'Vampire weekend')"
   ]
  },
  {
   "cell_type": "markdown",
   "metadata": {},
   "source": [
    "# RateYourMusic"
   ]
  },
  {
   "cell_type": "markdown",
   "metadata": {},
   "source": [
    "### Download Contemporary RnB titles (93 songs)"
   ]
  },
  {
   "cell_type": "markdown",
   "metadata": {},
   "source": [
    "From Itunes (70)"
   ]
  },
  {
   "cell_type": "code",
   "execution_count": 5,
   "metadata": {
    "scrolled": true
   },
   "outputs": [
    {
     "name": "stderr",
     "output_type": "stream",
     "text": [
      "  0%|          | 0/94 [00:00<?, ?it/s]\n"
     ]
    },
    {
     "ename": "KeyError",
     "evalue": "'tracks'",
     "output_type": "error",
     "traceback": [
      "\u001b[0;31m---------------------------------------------------------------------------\u001b[0m",
      "\u001b[0;31mKeyError\u001b[0m                                  Traceback (most recent call last)",
      "\u001b[0;32m<ipython-input-5-ca62912b0458>\u001b[0m in \u001b[0;36m<module>\u001b[0;34m\u001b[0m\n\u001b[1;32m     10\u001b[0m     \u001b[0mresult\u001b[0m  \u001b[0;34m=\u001b[0m \u001b[0mrequests\u001b[0m\u001b[0;34m.\u001b[0m\u001b[0mrequest\u001b[0m\u001b[0;34m(\u001b[0m\u001b[0;34m'get'\u001b[0m\u001b[0;34m,\u001b[0m \u001b[0;34m'https://api.spotify.com/v1/search?q='\u001b[0m\u001b[0;34m+\u001b[0m \u001b[0mquote\u001b[0m\u001b[0;34m(\u001b[0m\u001b[0me\u001b[0m\u001b[0;34m[\u001b[0m\u001b[0;34m'trackName'\u001b[0m\u001b[0;34m]\u001b[0m\u001b[0;34m)\u001b[0m \u001b[0;34m+\u001b[0m \u001b[0;34m\"%20artist:\"\u001b[0m \u001b[0;34m+\u001b[0m \u001b[0mquote\u001b[0m\u001b[0;34m(\u001b[0m\u001b[0me\u001b[0m\u001b[0;34m[\u001b[0m\u001b[0;34m'artistName'\u001b[0m\u001b[0;34m]\u001b[0m\u001b[0;34m)\u001b[0m \u001b[0;34m+\u001b[0m \u001b[0;34m\"&type=track\"\u001b[0m\u001b[0;34m,\u001b[0m \u001b[0mheaders\u001b[0m\u001b[0;34m=\u001b[0m\u001b[0mheader\u001b[0m\u001b[0;34m)\u001b[0m\u001b[0;34m.\u001b[0m\u001b[0mjson\u001b[0m\u001b[0;34m(\u001b[0m\u001b[0;34m)\u001b[0m\u001b[0;34m\u001b[0m\u001b[0;34m\u001b[0m\u001b[0m\n\u001b[1;32m     11\u001b[0m \u001b[0;34m\u001b[0m\u001b[0m\n\u001b[0;32m---> 12\u001b[0;31m     \u001b[0mitems\u001b[0m \u001b[0;34m=\u001b[0m \u001b[0mresult\u001b[0m\u001b[0;34m[\u001b[0m\u001b[0;34m'tracks'\u001b[0m\u001b[0;34m]\u001b[0m\u001b[0;34m[\u001b[0m\u001b[0;34m'items'\u001b[0m\u001b[0;34m]\u001b[0m\u001b[0;34m\u001b[0m\u001b[0;34m\u001b[0m\u001b[0m\n\u001b[0m\u001b[1;32m     13\u001b[0m \u001b[0;34m\u001b[0m\u001b[0m\n\u001b[1;32m     14\u001b[0m \u001b[0;34m\u001b[0m\u001b[0m\n",
      "\u001b[0;31mKeyError\u001b[0m: 'tracks'"
     ]
    }
   ],
   "source": [
    "# get names from itunes\n",
    "url = 'https://itunes.apple.com/search?term=song&genreId=1136&limit=200'\n",
    "\n",
    "response = requests.get(url)\n",
    "data = response.json()\n",
    "\n",
    "found = 0\n",
    "\n",
    "for e in tqdm.tqdm(data['results']):\n",
    "    result  = requests.request('get', 'https://api.spotify.com/v1/search?q='+ quote(e['trackName']) + \"%20artist:\" + quote(e['artistName']) + \"&type=track\", headers=header).json()\n",
    "    \n",
    "    items = result['tracks']['items']\n",
    "    \n",
    "    \n",
    "    #We found the song\n",
    "    if len(items) != 0 and ('error' not in result.keys()):\n",
    "        \n",
    "        found += 1\n",
    "    \n",
    "        song_id = result['tracks']['items'][0]['id']    \n",
    "        features = song_features(song_id)\n",
    "        \n",
    "        #get the preview url\n",
    "        result_preview  = requests.request('get', \"https://api.spotify.com/v1/tracks/\" + str(song_id), headers=header).json()\n",
    "        time.sleep(0.3)\n",
    "        preview = result_preview['preview_url']\n",
    "\n",
    "        if preview is None :\n",
    "            preview = \"\"\n",
    "\n",
    "        year = e['releaseDate']\n",
    "        cover = e['artworkUrl100']\n",
    "        artists = \" and \".join([a['name'] for a in result['tracks']['items'][0]['artists']])\n",
    "        name = e['trackName']\n",
    "        album = result['tracks']['items'][0]['album']['name']\n",
    "\n",
    "\n",
    "\n",
    "        song_dict = {'year' : year,\n",
    "                     'artists' : artists,\n",
    "                     'name' : name,\n",
    "                     'cover' : cover,\n",
    "                     'album' : album,\n",
    "                     'genre' : \"contemporary-rnb\",\n",
    "                    'danceability' : features['danceability'],\n",
    "                    'energy' : features['energy'],\n",
    "                    'key' : features['key'],\n",
    "                    'loudness' : features['loudness'],\n",
    "                    'mode' : features['mode'],\n",
    "                    'speechiness' : features['speechiness'],\n",
    "                    'acousticness' : features['acousticness'],\n",
    "                    'instrumentalness' : features['instrumentalness'],\n",
    "                    'liveness' : features['liveness'],\n",
    "                    'valence' : features['liveness'],\n",
    "                    'tempo' : features['tempo'],\n",
    "                    'duration_ms' : features['duration_ms'],\n",
    "                    'preview' : preview}\n",
    "\n",
    "\n",
    "        final_json.append(song_dict)\n",
    "        \n",
    "intermediary_results = final_json.copy()"
   ]
  },
  {
   "cell_type": "markdown",
   "metadata": {},
   "source": [
    "### Download british RnB (148 songs)"
   ]
  },
  {
   "cell_type": "code",
   "execution_count": null,
   "metadata": {
    "scrolled": true
   },
   "outputs": [],
   "source": [
    "file_names_brit = []\n",
    "for nb in range(250) :\n",
    "    file_name = \"data/british_rnb/british_rnb_\" + str(nb) + \".html\"\n",
    "    if os.path.isfile(file_name) :\n",
    "        file_names_brit.append(file_name)\n",
    "\n",
    "#break the search in two\n",
    "brit_tuples = get_rateYourMusic_tuples(file_names_brit)    \n",
    "\n",
    "\n",
    "final_json.extend(search_tuples(\"british-rnb\", brit_tuples[:int(len(brit_tuples)/2)]))\n",
    "intermediary_results = final_json.copy()\n",
    "\n",
    "final_json.extend(search_tuples(\"british-rnb\", brit_tuples[int(len(brit_tuples)/2):]))\n",
    "intermediary_results = final_json.copy()"
   ]
  },
  {
   "cell_type": "markdown",
   "metadata": {},
   "source": [
    "### Download alternative RnB (640 songs)"
   ]
  },
  {
   "cell_type": "code",
   "execution_count": null,
   "metadata": {
    "scrolled": true
   },
   "outputs": [],
   "source": [
    "file_names_alt = []\n",
    "for nb in range(250) :\n",
    "    file_name = \"data/alternative_rnb/alt_songs_\" + str(nb) + \".html\"\n",
    "    if os.path.isfile(file_name) :\n",
    "        file_names_alt.append(file_name)\n",
    "\n",
    "alt_tuples = get_rateYourMusic_tuples(file_names_alt)\n",
    "\n",
    "        \n",
    "final_json.extend(search_tuples(\"alternative-rnb\", alt_tuples))\n",
    "intermediary_results = final_json.copy()"
   ]
  },
  {
   "cell_type": "markdown",
   "metadata": {},
   "source": [
    "### Download new jack swing RnB (146 songs)"
   ]
  },
  {
   "cell_type": "code",
   "execution_count": null,
   "metadata": {
    "scrolled": true
   },
   "outputs": [],
   "source": [
    "file_names_nj = []\n",
    "for nb in range(250) :\n",
    "    file_name = \"data/new_jack_swing_rnb/njs_\" + str(nb) + \".html\"\n",
    "    if os.path.isfile(file_name) :\n",
    "        file_names_nj.append(file_name)\n",
    "\n",
    "njs_tuples = get_rateYourMusic_tuples(file_names_nj)\n",
    "        \n",
    "final_json.extend(search_tuples(\"new-jack-swing-rnb\", njs_tuples))\n",
    "intermediary_results = final_json.copy()"
   ]
  },
  {
   "cell_type": "markdown",
   "metadata": {},
   "source": [
    "### Download new Orleans RnB (247 songs)"
   ]
  },
  {
   "cell_type": "code",
   "execution_count": null,
   "metadata": {
    "scrolled": true
   },
   "outputs": [],
   "source": [
    "file_names_no = []\n",
    "for nb in range(250) :\n",
    "    file_name = \"data/new_orleans_rnb/no_\" + str(nb) + \".html\"\n",
    "    if os.path.isfile(file_name) :\n",
    "        file_names_no.append(file_name)\n",
    "        \n",
    "no_tuples = get_rateYourMusic_tuples(file_names_no)\n",
    "\n",
    "final_json.extend(search_tuples(\"new-orleans-rnb\", no_tuples))\n",
    "intermediary_results = final_json.copy()"
   ]
  },
  {
   "cell_type": "markdown",
   "metadata": {},
   "source": [
    "### Download Jump Blues (159 songs)"
   ]
  },
  {
   "cell_type": "code",
   "execution_count": null,
   "metadata": {
    "scrolled": true
   },
   "outputs": [],
   "source": [
    "file_names_jb = []\n",
    "for nb in range(250) :\n",
    "    file_name = \"data/jump_blues_rnb/jp_\" + str(nb) + \".html\"\n",
    "    if os.path.isfile(file_name) :\n",
    "        file_names_jb.append(file_name)\n",
    "\n",
    "jb_tuples = get_rateYourMusic_tuples(file_names_jb)\n",
    "        \n",
    "final_json.extend(search_tuples(\"jump-blues\", jb_tuples))\n",
    "intermediary_results = final_json.copy()"
   ]
  },
  {
   "cell_type": "markdown",
   "metadata": {},
   "source": [
    "### Download blue-eyed soul (622 songs)"
   ]
  },
  {
   "cell_type": "code",
   "execution_count": null,
   "metadata": {},
   "outputs": [],
   "source": [
    "file_names_bes = []\n",
    "for nb in range(250) :\n",
    "    file_name = \"data/blue_eyed_soul/blue_eyed_soul_\" + str(nb) + \".html\"\n",
    "    if os.path.isfile(file_name) :\n",
    "        file_names_bes.append(file_name)\n",
    "\n",
    "bes_tuples = get_rateYourMusic_tuples(file_names_bes)\n",
    "        \n",
    "final_json.extend(search_tuples(\"blue-eyed-soul\", bes_tuples))"
   ]
  },
  {
   "cell_type": "code",
   "execution_count": null,
   "metadata": {},
   "outputs": [],
   "source": [
    "#Dump everything into the data\n",
    "json.dump(final_json, open(\"rnb_data.json\", 'w'))"
   ]
  },
  {
   "cell_type": "markdown",
   "metadata": {},
   "source": [
    "# AllMusic"
   ]
  },
  {
   "cell_type": "markdown",
   "metadata": {},
   "source": [
    "### Contemporary rnb (720)"
   ]
  },
  {
   "cell_type": "code",
   "execution_count": null,
   "metadata": {},
   "outputs": [],
   "source": [
    "cont_tuples = json.load(open(\"data/All_Music/parsed/am_contemporary_rnb.json\"))\n",
    "final_json.extend(search_tuples(\"contemporary-rnb\", cont_tuples))\n",
    "intermediary_results = final_json.copy()"
   ]
  },
  {
   "cell_type": "markdown",
   "metadata": {},
   "source": [
    "### early rnb (198)"
   ]
  },
  {
   "cell_type": "code",
   "execution_count": null,
   "metadata": {},
   "outputs": [],
   "source": [
    "early_tuples = json.load(open(\"data/All_Music/parsed/am_early_rnb.json\"))\n",
    "final_json.extend(search_tuples(\"early-rnb\", early_tuples))\n",
    "intermediary_results = final_json.copy()"
   ]
  },
  {
   "cell_type": "markdown",
   "metadata": {},
   "source": [
    "### motown (86)"
   ]
  },
  {
   "cell_type": "code",
   "execution_count": null,
   "metadata": {},
   "outputs": [],
   "source": [
    "mo_tuples = json.load(open(\"data/All_Music/parsed/am_motown.json\"))\n",
    "final_json.extend(search_tuples(\"motown-rnb\", mo_tuples))\n",
    "intermediary_results = final_json.copy()"
   ]
  },
  {
   "cell_type": "code",
   "execution_count": null,
   "metadata": {},
   "outputs": [],
   "source": [
    "json.dump(final_json, open(\"rnb_data.json\", 'w'))"
   ]
  },
  {
   "cell_type": "markdown",
   "metadata": {},
   "source": [
    "# visualize number of songs per year"
   ]
  },
  {
   "cell_type": "code",
   "execution_count": null,
   "metadata": {},
   "outputs": [],
   "source": [
    "import collections\n",
    "\n",
    "#all possible genres\n",
    "genres = ['contemporary-rnb', 'british-rnb', 'new-orleans-rnb', \n",
    "          'alternative-rnb', 'new-jack-swing-rnb', 'blue-eyed-soul', 'jump-blues']\n",
    "\n",
    "#compute earliest and latest year globally\n",
    "all_years = [d['year'] for d in final_json if (d['year'] != '')]\n",
    "min_all_years, max_all_years = int(min(all_years)), int(max(all_years)) + 1\n",
    "\n",
    "#plot settings\n",
    "width = 1\n",
    "figure(figsize=(15,10))\n",
    "plots = []\n",
    "\n",
    "#initialize all years to zero\n",
    "seen_years = collections.Counter()\n",
    "for y in range(min_all_years, max_all_years) :\n",
    "        seen_years[str(y)] = 0\n",
    "\n",
    "\n",
    "\n",
    "for g in genres :\n",
    "\n",
    "    #years of genre songs\n",
    "    genre_years = [d['year'] for d in final_json if ((d[\"genre\"] == g) and (d['year'] != ''))]\n",
    "    \n",
    "    #create counter\n",
    "    years_per_genre = collections.Counter()\n",
    "    \n",
    "    \n",
    "    #put 0 as default value for all years\n",
    "    for y in range(min_all_years, max_all_years) :\n",
    "        years_per_genre[str(y)] = 0\n",
    "        \n",
    "    #count values\n",
    "    years_per_genre.update(genre_years)\n",
    "    \n",
    "    #create plot variables\n",
    "    labels, values = zip(*years_per_genre.items())\n",
    "    labels_all, values_all = zip(*seen_years.items())\n",
    "    indexes = np.arange(len(labels))    \n",
    "    \n",
    "    #plot with bottom\n",
    "    p = plt.bar(indexes, values, width, bottom=values_all)    \n",
    "    plots.append(p)\n",
    "    \n",
    "    #update seen years counter\n",
    "    seen_years.update(genre_years)\n",
    "\n",
    "#settings for axes\n",
    "plt.xticks(indexes + width * 0.5, labels, rotation=90)\n",
    "plt.xlabel(\"release year\")\n",
    "plt.ylabel(\"number of songs\")\n",
    "plt.ylim(ymax = 160, ymin = 0)\n",
    "\n",
    "#general plot settings\n",
    "plt.title(\"number of RnB songs per genre and per year\")\n",
    "plt.legend(plots, genres)\n",
    "\n",
    "# plot\n",
    "plt.savefig(\"nb_of_songs.png\")\n",
    "plt.show()\n"
   ]
  },
  {
   "cell_type": "markdown",
   "metadata": {},
   "source": [
    "# compute discriminative coefficients for each feature and each year "
   ]
  },
  {
   "cell_type": "code",
   "execution_count": null,
   "metadata": {},
   "outputs": [],
   "source": [
    "[f for f in final_json_bis if f['genre'] == 'contemporary-rnb']"
   ]
  },
  {
   "cell_type": "code",
   "execution_count": null,
   "metadata": {},
   "outputs": [],
   "source": [
    "years = range(1900, 2050)\n",
    "best_features = dict()\n",
    "\n",
    "for y in years :\n",
    "    \n",
    "    # load data\n",
    "    names = ['energy', 'loudness', 'speechiness', 'acousticness', 'instrumentalness', 'liveness', 'valence', 'tempo']\n",
    "    targets = np.array([c['genre'] for c in final_json if c['year'] == str(y)])\n",
    "    \n",
    "    if len(set(targets)) > 1:\n",
    "\n",
    "        features = np.array([c['danceability'] for c in final_json if c['year'] == str(y)])\n",
    "        \n",
    "        \n",
    "        for n in names :\n",
    "            features = np.vstack((features, np.array([c[n] for c in final_json if c['year'] == str(y)])))\n",
    "\n",
    "\n",
    "        model = LogisticRegression()\n",
    "        rfe = RFE(model, 2)\n",
    "        fit = rfe.fit(features.T, targets)\n",
    "\n",
    "        best_for_year = sorted([c[0] for c in zip(['danceability'] + names, fit.support_) if c[1]])\n",
    "        best_features[y] = best_for_year\n",
    "        \n",
    "best_features"
   ]
  }
 ],
 "metadata": {
  "kernelspec": {
   "display_name": "Python 3",
   "language": "python",
   "name": "python3"
  },
  "language_info": {
   "codemirror_mode": {
    "name": "ipython",
    "version": 3
   },
   "file_extension": ".py",
   "mimetype": "text/x-python",
   "name": "python",
   "nbconvert_exporter": "python",
   "pygments_lexer": "ipython3",
   "version": "3.6.7"
  }
 },
 "nbformat": 4,
 "nbformat_minor": 2
}
