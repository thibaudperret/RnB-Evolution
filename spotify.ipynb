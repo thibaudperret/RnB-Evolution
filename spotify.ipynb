{
 "cells": [
  {
   "cell_type": "code",
   "execution_count": 46,
   "metadata": {},
   "outputs": [],
   "source": [
    "import requests\n",
    "import urllib.request\n",
    "from urllib.parse import quote\n",
    "import numpy as np\n",
    "from tqdm import tqdm\n",
    "import contextlib\n",
    "import json\n",
    "import tqdm\n",
    "from bs4 import BeautifulSoup as bs\n",
    "import time\n",
    "import matplotlib.pyplot as plt\n",
    "from matplotlib.pyplot import figure\n",
    "import collections\n",
    "import pandas as pd"
   ]
  },
  {
   "cell_type": "markdown",
   "metadata": {},
   "source": [
    "### Set up spotify scrapping functions"
   ]
  },
  {
   "cell_type": "code",
   "execution_count": 2,
   "metadata": {},
   "outputs": [],
   "source": [
    "token = 'BQDmS84Cp2wqtfyx2yk4mdhjLm22v-koyiUxrRxTUSH4uBc48GVjH8WMPJfp-6Ix9DTHhNHqpk43rGKJ0OP8q78IFBXhjuE6YS7JfDSsXV1_YGdk2EwlCI9U6L6SB2NXUsAnH6vF5ByTbSdh3ICjagQhGfM'\n",
    "\n",
    "header = {\n",
    "    'Authorization': 'Bearer ' + token,\n",
    "    'Accept': 'application/json',\n",
    "    'Content-Type': 'application/json'\n",
    "}\n",
    "\n",
    "final_json = []"
   ]
  },
  {
   "cell_type": "code",
   "execution_count": 3,
   "metadata": {},
   "outputs": [],
   "source": [
    "def song_features(song_id):\n",
    "    query = 'audio-features/' + str(song_id)\n",
    "    r = requests.request('get', 'https://api.spotify.com/v1/' + query, headers=header)\n",
    "    return r.json()\n",
    "\n",
    "\n",
    "def get_rateYourMusic_songs(genre, filenames, table_index=3) :\n",
    "    \n",
    "    #song year, artist and title\n",
    "    searches = []\n",
    "    all_info = []\n",
    "    \n",
    "    for f in filenames :\n",
    "\n",
    "        res = bs(open(f),\"html5lib\")\n",
    "        for t in res.findAll(attrs={'class': \"mbgen\"})[table_index].findAll(\"tr\")[1:] :\n",
    "                        \n",
    "            if len(t.findAll(\"td\")) >= 3 :\n",
    "                \n",
    "                \n",
    "            \n",
    "                year = t.findAll(\"td\")[0].text\n",
    "                artist = t.findAll(\"td\")[1].text\n",
    "                title = t.findAll(\"td\")[2].text\n",
    "\n",
    "                if '/' in title :\n",
    "                    searches.append([year, artist, title.split('/')[0].strip()])\n",
    "                    searches.append([year, artist, title.split('/')[1].strip()])\n",
    "\n",
    "                else :\n",
    "                    searches.append([year, artist, title])\n",
    "\n",
    "    found = 0\n",
    "\n",
    "    for s in tqdm.tqdm(searches) :\n",
    "        result  = requests.request('get', 'https://api.spotify.com/v1/search?q='+ quote(s[2]) + \"%20artist:\" + quote(s[1]) + \"&type=track\", headers=header).json()\n",
    "        time.sleep(0.2)\n",
    "        items = result['tracks']['items']\n",
    "\n",
    "\n",
    "        #We found the song\n",
    "        if len(items) != 0 :\n",
    "\n",
    "            found += 1\n",
    "\n",
    "            song_id = result['tracks']['items'][0]['id']   \n",
    "            song_release = items[0]['album']['release_date']\n",
    "            features = song_features(song_id)\n",
    "\n",
    "            year = s[0]\n",
    "            cover = \"\"\n",
    "            \n",
    "            if len(items[0]['album']['images']) != 0 :                \n",
    "                cover = items[0]['album']['images'][0]['url']            \n",
    "            else :\n",
    "                cover = \"https://vignette.wikia.nocookie.net/uncyclopedia/images/a/a0/Questionmark.jpg/revision/latest?cb=20090616065802&format=original\"\n",
    "            \n",
    "            artists = s[1]\n",
    "            name = s[2]\n",
    "            album = items[0]['album']['name']\n",
    "\n",
    "\n",
    "\n",
    "            song_dict = {'year' : year,\n",
    "                         'artists' : artists,\n",
    "                         'name' : name,\n",
    "                         'cover' : cover,\n",
    "                         'album' : album,\n",
    "                         'genre' : genre,\n",
    "                        'danceability' : features['danceability'],\n",
    "                        'energy' : features['energy'],\n",
    "                        'key' : features['key'],\n",
    "                        'loudness' : features['loudness'],\n",
    "                        'mode' : features['mode'],\n",
    "                        'speechiness' : features['speechiness'],\n",
    "                        'acousticness' : features['acousticness'],\n",
    "                        'instrumentalness' : features['instrumentalness'],\n",
    "                        'liveness' : features['liveness'],\n",
    "                        'valence' : features['liveness'],\n",
    "                        'tempo' : features['tempo'],\n",
    "                        'duration_ms' : features['duration_ms']}\n",
    "\n",
    "\n",
    "            all_info.append(song_dict)\n",
    "    print(\"found : \", found , \", (\" + str(100*found/len(searches)) + \"%) for genre \" + genre)\n",
    "    return all_info\n"
   ]
  },
  {
   "cell_type": "markdown",
   "metadata": {},
   "source": [
    "# Download Contemporary RnB titles (94 songs)"
   ]
  },
  {
   "cell_type": "markdown",
   "metadata": {},
   "source": [
    "From Itunes (70)"
   ]
  },
  {
   "cell_type": "code",
   "execution_count": 4,
   "metadata": {
    "scrolled": true
   },
   "outputs": [
    {
     "name": "stderr",
     "output_type": "stream",
     "text": [
      "  2%|▏         | 2/95 [00:00<00:17,  5.20it/s]"
     ]
    },
    {
     "name": "stdout",
     "output_type": "stream",
     "text": [
      "The O'Jays\n",
      "Ashanti and French Montana\n"
     ]
    },
    {
     "name": "stderr",
     "output_type": "stream",
     "text": [
      "\r",
      "  3%|▎         | 3/95 [00:00<00:16,  5.46it/s]"
     ]
    },
    {
     "name": "stdout",
     "output_type": "stream",
     "text": [
      "Ashanti\n"
     ]
    },
    {
     "name": "stderr",
     "output_type": "stream",
     "text": [
      "  5%|▌         | 5/95 [00:00<00:16,  5.39it/s]"
     ]
    },
    {
     "name": "stdout",
     "output_type": "stream",
     "text": [
      "Ashanti\n",
      "Ashanti\n"
     ]
    },
    {
     "name": "stderr",
     "output_type": "stream",
     "text": [
      "  7%|▋         | 7/95 [00:01<00:15,  5.53it/s]"
     ]
    },
    {
     "name": "stdout",
     "output_type": "stream",
     "text": [
      "Ashanti\n",
      "Ashanti\n"
     ]
    },
    {
     "name": "stderr",
     "output_type": "stream",
     "text": [
      "  9%|▉         | 9/95 [00:01<00:14,  5.85it/s]"
     ]
    },
    {
     "name": "stdout",
     "output_type": "stream",
     "text": [
      "Ashanti\n",
      "Ashanti\n"
     ]
    },
    {
     "name": "stderr",
     "output_type": "stream",
     "text": [
      "\r",
      " 11%|█         | 10/95 [00:01<00:14,  5.78it/s]"
     ]
    },
    {
     "name": "stdout",
     "output_type": "stream",
     "text": [
      "Ashanti\n"
     ]
    },
    {
     "name": "stderr",
     "output_type": "stream",
     "text": [
      " 13%|█▎        | 12/95 [00:02<00:15,  5.53it/s]"
     ]
    },
    {
     "name": "stdout",
     "output_type": "stream",
     "text": [
      "Ashanti and Beenie Man\n",
      "Ashanti\n"
     ]
    },
    {
     "name": "stderr",
     "output_type": "stream",
     "text": [
      " 16%|█▌        | 15/95 [00:02<00:13,  5.76it/s]"
     ]
    },
    {
     "name": "stdout",
     "output_type": "stream",
     "text": [
      "Ashanti\n",
      "Ashanti and Rick Ross\n"
     ]
    },
    {
     "name": "stderr",
     "output_type": "stream",
     "text": [
      " 18%|█▊        | 17/95 [00:03<00:13,  5.70it/s]"
     ]
    },
    {
     "name": "stdout",
     "output_type": "stream",
     "text": [
      "Ashanti and Jeremih\n",
      "Shelea\n"
     ]
    },
    {
     "name": "stderr",
     "output_type": "stream",
     "text": [
      "\r",
      " 19%|█▉        | 18/95 [00:03<00:13,  5.50it/s]"
     ]
    },
    {
     "name": "stdout",
     "output_type": "stream",
     "text": [
      "Shelea\n"
     ]
    },
    {
     "name": "stderr",
     "output_type": "stream",
     "text": [
      " 21%|██        | 20/95 [00:03<00:15,  4.98it/s]"
     ]
    },
    {
     "name": "stdout",
     "output_type": "stream",
     "text": [
      "The O'Jays\n",
      "Poppy Ajudha\n"
     ]
    },
    {
     "name": "stderr",
     "output_type": "stream",
     "text": [
      " 24%|██▍       | 23/95 [00:04<00:11,  6.02it/s]"
     ]
    },
    {
     "name": "stdout",
     "output_type": "stream",
     "text": [
      "Poppy Ajudha\n"
     ]
    },
    {
     "name": "stderr",
     "output_type": "stream",
     "text": [
      " 26%|██▋       | 25/95 [00:04<00:12,  5.71it/s]"
     ]
    },
    {
     "name": "stdout",
     "output_type": "stream",
     "text": [
      "Zorro Chang\n",
      "Poppy Ajudha\n"
     ]
    },
    {
     "name": "stderr",
     "output_type": "stream",
     "text": [
      "\r",
      " 27%|██▋       | 26/95 [00:04<00:12,  5.68it/s]"
     ]
    },
    {
     "name": "stdout",
     "output_type": "stream",
     "text": [
      "Poppy Ajudha\n"
     ]
    },
    {
     "name": "stderr",
     "output_type": "stream",
     "text": [
      " 29%|██▉       | 28/95 [00:05<00:12,  5.26it/s]"
     ]
    },
    {
     "name": "stdout",
     "output_type": "stream",
     "text": [
      "Jaki Graham\n",
      "Brian Jay and Linasia Monet\n"
     ]
    },
    {
     "name": "stderr",
     "output_type": "stream",
     "text": [
      " 32%|███▏      | 30/95 [00:05<00:11,  5.59it/s]"
     ]
    },
    {
     "name": "stdout",
     "output_type": "stream",
     "text": [
      "MAYLIN\n"
     ]
    },
    {
     "name": "stderr",
     "output_type": "stream",
     "text": [
      " 35%|███▍      | 33/95 [00:05<00:10,  5.76it/s]"
     ]
    },
    {
     "name": "stdout",
     "output_type": "stream",
     "text": [
      "Chris Read\n",
      "Rodney Stepp\n"
     ]
    },
    {
     "name": "stderr",
     "output_type": "stream",
     "text": [
      " 39%|███▉      | 37/95 [00:06<00:09,  5.91it/s]"
     ]
    },
    {
     "name": "stdout",
     "output_type": "stream",
     "text": [
      "PM and Mia Song\n",
      "Noidy\n"
     ]
    },
    {
     "name": "stderr",
     "output_type": "stream",
     "text": [
      "\r",
      " 40%|████      | 38/95 [00:06<00:09,  5.89it/s]"
     ]
    },
    {
     "name": "stdout",
     "output_type": "stream",
     "text": [
      "Gene Yus\n"
     ]
    },
    {
     "name": "stderr",
     "output_type": "stream",
     "text": [
      " 42%|████▏     | 40/95 [00:07<00:10,  5.42it/s]"
     ]
    },
    {
     "name": "stdout",
     "output_type": "stream",
     "text": [
      "The Doubt\n",
      "The Doubt\n"
     ]
    },
    {
     "name": "stderr",
     "output_type": "stream",
     "text": [
      " 53%|█████▎    | 50/95 [00:08<00:06,  7.27it/s]"
     ]
    },
    {
     "name": "stdout",
     "output_type": "stream",
     "text": [
      "Shuga Blaz\n"
     ]
    },
    {
     "name": "stderr",
     "output_type": "stream",
     "text": [
      " 55%|█████▍    | 52/95 [00:08<00:07,  5.84it/s]"
     ]
    },
    {
     "name": "stdout",
     "output_type": "stream",
     "text": [
      "KayJay\n",
      "Jaya\n"
     ]
    },
    {
     "name": "stderr",
     "output_type": "stream",
     "text": [
      " 57%|█████▋    | 54/95 [00:08<00:07,  5.69it/s]"
     ]
    },
    {
     "name": "stdout",
     "output_type": "stream",
     "text": [
      "DeJuan \"N\" Only\n",
      "VI The Law\n"
     ]
    },
    {
     "name": "stderr",
     "output_type": "stream",
     "text": [
      " 59%|█████▉    | 56/95 [00:09<00:07,  4.90it/s]"
     ]
    },
    {
     "name": "stdout",
     "output_type": "stream",
     "text": [
      "Yohan Henry\n",
      "Alexe Owbee\n"
     ]
    },
    {
     "name": "stderr",
     "output_type": "stream",
     "text": [
      " 61%|██████    | 58/95 [00:09<00:06,  5.86it/s]"
     ]
    },
    {
     "name": "stdout",
     "output_type": "stream",
     "text": [
      "Pash\n"
     ]
    },
    {
     "name": "stderr",
     "output_type": "stream",
     "text": [
      " 63%|██████▎   | 60/95 [00:10<00:05,  6.19it/s]"
     ]
    },
    {
     "name": "stdout",
     "output_type": "stream",
     "text": [
      "Naliz\n"
     ]
    },
    {
     "name": "stderr",
     "output_type": "stream",
     "text": [
      "\r",
      " 65%|██████▌   | 62/95 [00:10<00:04,  6.73it/s]"
     ]
    },
    {
     "name": "stdout",
     "output_type": "stream",
     "text": [
      "HasenPfote and Charity Projekt Kinder\n"
     ]
    },
    {
     "name": "stderr",
     "output_type": "stream",
     "text": [
      " 67%|██████▋   | 64/95 [00:10<00:05,  5.58it/s]"
     ]
    },
    {
     "name": "stdout",
     "output_type": "stream",
     "text": [
      "Chief Kooffreh\n",
      "Hiprocktized\n"
     ]
    },
    {
     "name": "stderr",
     "output_type": "stream",
     "text": [
      " 69%|██████▉   | 66/95 [00:10<00:05,  5.80it/s]"
     ]
    },
    {
     "name": "stdout",
     "output_type": "stream",
     "text": [
      "Dave Beano\n",
      "Diana Winter\n"
     ]
    },
    {
     "name": "stderr",
     "output_type": "stream",
     "text": [
      " 72%|███████▏  | 68/95 [00:11<00:04,  6.56it/s]"
     ]
    },
    {
     "name": "stdout",
     "output_type": "stream",
     "text": [
      "Peeda\n"
     ]
    },
    {
     "name": "stderr",
     "output_type": "stream",
     "text": [
      " 75%|███████▍  | 71/95 [00:11<00:03,  6.34it/s]"
     ]
    },
    {
     "name": "stdout",
     "output_type": "stream",
     "text": [
      "K-Luv\n",
      "Tim Lee\n"
     ]
    },
    {
     "name": "stderr",
     "output_type": "stream",
     "text": [
      "\r",
      " 76%|███████▌  | 72/95 [00:11<00:03,  5.81it/s]"
     ]
    },
    {
     "name": "stdout",
     "output_type": "stream",
     "text": [
      "The Yellow Dust\n"
     ]
    },
    {
     "name": "stderr",
     "output_type": "stream",
     "text": [
      " 78%|███████▊  | 74/95 [00:12<00:03,  5.53it/s]"
     ]
    },
    {
     "name": "stdout",
     "output_type": "stream",
     "text": [
      "Chief Kooffreh\n",
      "Ambra Noè\n"
     ]
    },
    {
     "name": "stderr",
     "output_type": "stream",
     "text": [
      " 81%|████████  | 77/95 [00:12<00:03,  5.43it/s]"
     ]
    },
    {
     "name": "stdout",
     "output_type": "stream",
     "text": [
      "Sharell Madden\n",
      "Collin Sumner and Crisinothaproducer\n"
     ]
    },
    {
     "name": "stderr",
     "output_type": "stream",
     "text": [
      " 83%|████████▎ | 79/95 [00:13<00:02,  5.42it/s]"
     ]
    },
    {
     "name": "stdout",
     "output_type": "stream",
     "text": [
      "TSC\n",
      "Paulina\n"
     ]
    },
    {
     "name": "stderr",
     "output_type": "stream",
     "text": [
      " 86%|████████▋ | 82/95 [00:13<00:02,  5.69it/s]"
     ]
    },
    {
     "name": "stdout",
     "output_type": "stream",
     "text": [
      "Chief Kooffreh\n"
     ]
    },
    {
     "name": "stderr",
     "output_type": "stream",
     "text": [
      "\r",
      " 88%|████████▊ | 84/95 [00:14<00:01,  5.83it/s]"
     ]
    },
    {
     "name": "stdout",
     "output_type": "stream",
     "text": [
      "The Yellow Dust\n"
     ]
    },
    {
     "name": "stderr",
     "output_type": "stream",
     "text": [
      " 91%|█████████ | 86/95 [00:14<00:01,  5.37it/s]"
     ]
    },
    {
     "name": "stdout",
     "output_type": "stream",
     "text": [
      "A to the B\n",
      "Anjelcity2\n"
     ]
    },
    {
     "name": "stderr",
     "output_type": "stream",
     "text": [
      " 93%|█████████▎| 88/95 [00:14<00:01,  5.10it/s]"
     ]
    },
    {
     "name": "stdout",
     "output_type": "stream",
     "text": [
      "Shake\n",
      "WTF Project\n"
     ]
    },
    {
     "name": "stderr",
     "output_type": "stream",
     "text": [
      " 95%|█████████▍| 90/95 [00:15<00:00,  5.15it/s]"
     ]
    },
    {
     "name": "stdout",
     "output_type": "stream",
     "text": [
      "Tsc Beatz\n",
      "Victor Atenaga\n"
     ]
    },
    {
     "name": "stderr",
     "output_type": "stream",
     "text": [
      " 97%|█████████▋| 92/95 [00:15<00:00,  5.43it/s]"
     ]
    },
    {
     "name": "stdout",
     "output_type": "stream",
     "text": [
      "Wet Dreams & Dank Memes\n",
      "Kawani Kuron\n"
     ]
    },
    {
     "name": "stderr",
     "output_type": "stream",
     "text": [
      "\r",
      " 98%|█████████▊| 93/95 [00:15<00:00,  5.31it/s]"
     ]
    },
    {
     "name": "stdout",
     "output_type": "stream",
     "text": [
      "Rodney Stepp\n"
     ]
    },
    {
     "name": "stderr",
     "output_type": "stream",
     "text": [
      "100%|██████████| 95/95 [00:16<00:00,  5.01it/s]"
     ]
    },
    {
     "name": "stdout",
     "output_type": "stream",
     "text": [
      "Soul Elements\n",
      "Lorence Michaels\n"
     ]
    },
    {
     "name": "stderr",
     "output_type": "stream",
     "text": [
      "\n"
     ]
    }
   ],
   "source": [
    "# get names from itunes\n",
    "url = 'https://itunes.apple.com/search?term=song&genreId=1136&limit=200'\n",
    "\n",
    "response = requests.get(url)\n",
    "data = response.json()\n",
    "\n",
    "found = 0\n",
    "\n",
    "for e in tqdm.tqdm(data['results']):\n",
    "    result  = requests.request('get', 'https://api.spotify.com/v1/search?q='+ quote(e['trackName']) + \"%20artist:\" + quote(e['artistName']) + \"&type=track\", headers=header).json()\n",
    "    \n",
    "    items = result['tracks']['items']\n",
    "    \n",
    "    \n",
    "    #We found the song\n",
    "    if len(items) != 0 :\n",
    "        \n",
    "        found += 1\n",
    "    \n",
    "        song_id = result['tracks']['items'][0]['id']    \n",
    "        features = song_features(song_id)\n",
    "\n",
    "        year = e['releaseDate'][:4]\n",
    "        cover = e['artworkUrl100']\n",
    "        artists = \" and \".join([a['name'] for a in result['tracks']['items'][0]['artists']])\n",
    "        print(artists)\n",
    "        name = e['trackName']\n",
    "        album = result['tracks']['items'][0]['album']['name']\n",
    "\n",
    "\n",
    "\n",
    "        song_dict = {'year' : year,\n",
    "                     'artists' : artists,\n",
    "                     'name' : name,\n",
    "                     'cover' : cover,\n",
    "                     'album' : album,\n",
    "                     'genre' : \"contemporary-rnb\",\n",
    "                    'danceability' : features['danceability'],\n",
    "                    'energy' : features['energy'],\n",
    "                    'key' : features['key'],\n",
    "                    'loudness' : features['loudness'],\n",
    "                    'mode' : features['mode'],\n",
    "                    'speechiness' : features['speechiness'],\n",
    "                    'acousticness' : features['acousticness'],\n",
    "                    'instrumentalness' : features['instrumentalness'],\n",
    "                    'liveness' : features['liveness'],\n",
    "                    'valence' : features['liveness'],\n",
    "                    'tempo' : features['tempo'],\n",
    "                    'duration_ms' : features['duration_ms']}\n",
    "\n",
    "\n",
    "        final_json.append(song_dict)"
   ]
  },
  {
   "cell_type": "markdown",
   "metadata": {},
   "source": [
    "From rateYourMusic (24 songs)"
   ]
  },
  {
   "cell_type": "code",
   "execution_count": 5,
   "metadata": {},
   "outputs": [
    {
     "name": "stderr",
     "output_type": "stream",
     "text": [
      "100%|██████████| 40/40 [00:14<00:00,  2.65it/s]"
     ]
    },
    {
     "name": "stdout",
     "output_type": "stream",
     "text": [
      "found :  24 , (60.0%) for genre contemporary-rnb\n"
     ]
    },
    {
     "name": "stderr",
     "output_type": "stream",
     "text": [
      "\n"
     ]
    }
   ],
   "source": [
    "final_json.extend(get_rateYourMusic_songs(\"contemporary-rnb\", [\"data/contemporary_rnb/cont_songs_1.html\"], table_index=2))"
   ]
  },
  {
   "cell_type": "markdown",
   "metadata": {},
   "source": [
    "# Download british RnB (527 songs)"
   ]
  },
  {
   "cell_type": "code",
   "execution_count": 6,
   "metadata": {},
   "outputs": [
    {
     "name": "stderr",
     "output_type": "stream",
     "text": [
      "100%|██████████| 856/856 [05:21<00:00,  2.59it/s]"
     ]
    },
    {
     "name": "stdout",
     "output_type": "stream",
     "text": [
      "found :  527 , (61.56542056074766%) for genre british-rnb\n"
     ]
    },
    {
     "name": "stderr",
     "output_type": "stream",
     "text": [
      "\n"
     ]
    }
   ],
   "source": [
    "final_json.extend(get_rateYourMusic_songs(\"british-rnb\", [\"data/british_rnb/brit_songs_\" + str(c) + \".html\" for c in range(1, 27) ]))"
   ]
  },
  {
   "cell_type": "markdown",
   "metadata": {},
   "source": [
    "# Download alternative RnB (198 songs)"
   ]
  },
  {
   "cell_type": "code",
   "execution_count": 7,
   "metadata": {
    "scrolled": true
   },
   "outputs": [
    {
     "name": "stderr",
     "output_type": "stream",
     "text": [
      "100%|██████████| 278/278 [01:42<00:00,  2.78it/s]"
     ]
    },
    {
     "name": "stdout",
     "output_type": "stream",
     "text": [
      "found :  198 , (71.22302158273381%) for genre alternative-rnb\n"
     ]
    },
    {
     "name": "stderr",
     "output_type": "stream",
     "text": [
      "\n"
     ]
    }
   ],
   "source": [
    "final_json.extend(get_rateYourMusic_songs(\"alternative-rnb\", [\"data/alternative_rnb/alt_songs_\" + str(c) + \".html\" for c in range(1, 12) ]))"
   ]
  },
  {
   "cell_type": "markdown",
   "metadata": {},
   "source": [
    "# Download new jack swing RnB (197 songs)"
   ]
  },
  {
   "cell_type": "code",
   "execution_count": 8,
   "metadata": {
    "scrolled": true
   },
   "outputs": [
    {
     "name": "stderr",
     "output_type": "stream",
     "text": [
      "100%|██████████| 300/300 [01:52<00:00,  2.89it/s]"
     ]
    },
    {
     "name": "stdout",
     "output_type": "stream",
     "text": [
      "found :  198 , (66.0%) for genre new-jack-swing-rnb\n"
     ]
    },
    {
     "name": "stderr",
     "output_type": "stream",
     "text": [
      "\n"
     ]
    }
   ],
   "source": [
    "final_json.extend(get_rateYourMusic_songs(\"new-jack-swing-rnb\", [\"data/new_jack_swing_rnb/njs_rnb_\" + str(c) + \".html\" for c in range(1, 12) ]))"
   ]
  },
  {
   "cell_type": "markdown",
   "metadata": {},
   "source": [
    "# Download new Orleans RnB (253 songs)"
   ]
  },
  {
   "cell_type": "code",
   "execution_count": 9,
   "metadata": {
    "scrolled": true
   },
   "outputs": [
    {
     "name": "stderr",
     "output_type": "stream",
     "text": [
      "100%|██████████| 394/394 [02:38<00:00,  2.91it/s]"
     ]
    },
    {
     "name": "stdout",
     "output_type": "stream",
     "text": [
      "found :  253 , (64.21319796954315%) for genre new-orleans-rnb\n"
     ]
    },
    {
     "name": "stderr",
     "output_type": "stream",
     "text": [
      "\n"
     ]
    }
   ],
   "source": [
    "final_json.extend(get_rateYourMusic_songs(\"new-orleans-rnb\", [\"data/new_orleans_rnb/new_orleans_rnb\" + str(c) + \".html\" for c in range(1, 12) ]))"
   ]
  },
  {
   "cell_type": "markdown",
   "metadata": {},
   "source": [
    "# Download Jump Blues (261 songs)"
   ]
  },
  {
   "cell_type": "code",
   "execution_count": 10,
   "metadata": {
    "scrolled": true
   },
   "outputs": [
    {
     "name": "stderr",
     "output_type": "stream",
     "text": [
      "100%|██████████| 414/414 [02:40<00:00,  2.89it/s]"
     ]
    },
    {
     "name": "stdout",
     "output_type": "stream",
     "text": [
      "found :  261 , (63.04347826086956%) for genre jump-blues\n"
     ]
    },
    {
     "name": "stderr",
     "output_type": "stream",
     "text": [
      "\n"
     ]
    }
   ],
   "source": [
    "final_json.extend(get_rateYourMusic_songs(\"jump-blues\", [\"data/jump_blues_rnb/jump_blues_\" + str(c) + \".html\" for c in range(1, 12) ]))"
   ]
  },
  {
   "cell_type": "markdown",
   "metadata": {},
   "source": [
    "# Download blue-eyed soul (275 songs)"
   ]
  },
  {
   "cell_type": "code",
   "execution_count": 11,
   "metadata": {},
   "outputs": [
    {
     "name": "stderr",
     "output_type": "stream",
     "text": [
      "100%|██████████| 386/386 [02:29<00:00,  2.48it/s]"
     ]
    },
    {
     "name": "stdout",
     "output_type": "stream",
     "text": [
      "found :  275 , (71.24352331606218%) for genre blue-eyed-soul\n"
     ]
    },
    {
     "name": "stderr",
     "output_type": "stream",
     "text": [
      "\n"
     ]
    }
   ],
   "source": [
    "final_json.extend(get_rateYourMusic_songs(\"blue-eyed-soul\", [\"data/blue_eyed_soul/blue_eyed_soul_\" + str(c) + \".html\" for c in range(1, 12) ]))"
   ]
  },
  {
   "cell_type": "code",
   "execution_count": 12,
   "metadata": {},
   "outputs": [],
   "source": [
    "#Dump everything into the data\n",
    "json.dump(final_json, open(\"rnb_data.json\", 'w'))"
   ]
  },
  {
   "cell_type": "markdown",
   "metadata": {},
   "source": [
    "# visualize number of songs per year"
   ]
  },
  {
   "cell_type": "code",
   "execution_count": 77,
   "metadata": {},
   "outputs": [
    {
     "data": {
      "image/png": "[encoded data removed]",
      "text/plain": [
       "<Figure size 1080x720 with 1 Axes>"
      ]
     },
     "metadata": {
      "needs_background": "light"
     },
     "output_type": "display_data"
    }
   ],
   "source": [
    "import collections\n",
    "\n",
    "#all possible genres\n",
    "genres = ['contemporary-rnb', 'british-rnb', 'new-orleans-rnb', \n",
    "          'alternative-rnb', 'new-jack-swing-rnb', 'blue-eyed-soul', 'jump-blues']\n",
    "\n",
    "#compute earliest and latest year globally\n",
    "all_years = [d['year'] for d in final_json if (d['year'] != '')]\n",
    "min_all_years, max_all_years = int(min(all_years)), int(max(all_years)) + 1\n",
    "\n",
    "#plot settings\n",
    "width = 1\n",
    "figure(figsize=(15,10))\n",
    "plots = []\n",
    "\n",
    "#initialize all years to zero\n",
    "seen_years = collections.Counter()\n",
    "for y in range(min_all_years, max_all_years) :\n",
    "        seen_years[str(y)] = 0\n",
    "\n",
    "\n",
    "\n",
    "for g in genres :\n",
    "\n",
    "    #years of genre songs\n",
    "    genre_years = [d['year'] for d in final_json if ((d[\"genre\"] == g) and (d['year'] != ''))]\n",
    "    \n",
    "    #create counter\n",
    "    years_per_genre = collections.Counter()\n",
    "    \n",
    "    \n",
    "    #put 0 as default value for all years\n",
    "    for y in range(min_all_years, max_all_years) :\n",
    "        years_per_genre[str(y)] = 0\n",
    "        \n",
    "    #count values\n",
    "    years_per_genre.update(genre_years)\n",
    "    \n",
    "    #create plot variables\n",
    "    labels, values = zip(*years_per_genre.items())\n",
    "    labels_all, values_all = zip(*seen_years.items())\n",
    "    indexes = np.arange(len(labels))    \n",
    "    \n",
    "    #plot with bottom\n",
    "    p = plt.bar(indexes, values, width, bottom=values_all)    \n",
    "    plots.append(p)\n",
    "    \n",
    "    #update seen years counter\n",
    "    seen_years.update(genre_years)\n",
    "\n",
    "#settings for axes\n",
    "plt.xticks(indexes + width * 0.5, labels, rotation=90)\n",
    "plt.xlabel(\"release year\")\n",
    "plt.ylabel(\"number of songs\")\n",
    "plt.ylim(ymax = 160, ymin = 0)\n",
    "\n",
    "#general plot settings\n",
    "plt.title(\"number of RnB songs per genre and per year\")\n",
    "plt.legend(plots, genres)\n",
    "\n",
    "# plot\n",
    "plt.savefig(\"nb_of_songs.png\")\n",
    "plt.show()\n"
   ]
  },
  {
   "cell_type": "markdown",
   "metadata": {},
   "source": [
    "# compute discriminative coefficients for each feature and each year "
   ]
  },
  {
   "cell_type": "code",
   "execution_count": null,
   "metadata": {},
   "outputs": [],
   "source": []
  }
 ],
 "metadata": {
  "kernelspec": {
   "display_name": "Python 3",
   "language": "python",
   "name": "python3"
  },
  "language_info": {
   "codemirror_mode": {
    "name": "ipython",
    "version": 3
   },
   "file_extension": ".py",
   "mimetype": "text/x-python",
   "name": "python",
   "nbconvert_exporter": "python",
   "pygments_lexer": "ipython3",
   "version": "3.7.0"
  }
 },
 "nbformat": 4,
 "nbformat_minor": 2
}
