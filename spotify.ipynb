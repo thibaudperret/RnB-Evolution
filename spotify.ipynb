{
 "cells": [
  {
   "cell_type": "code",
   "execution_count": 1,
   "metadata": {},
   "outputs": [],
   "source": [
    "import requests\n",
    "import urllib.request\n",
    "from urllib.parse import quote\n",
    "import numpy as np\n",
    "from tqdm import tqdm\n",
    "#import contextlibr\n",
    "import collections\n",
    "import os\n",
    "import json\n",
    "import tqdm\n",
    "from bs4 import BeautifulSoup as bs\n",
    "import time\n",
    "import matplotlib.pyplot as plt\n",
    "from matplotlib.pyplot import figure\n",
    "from sklearn.feature_selection import RFE\n",
    "from sklearn.linear_model import LogisticRegression\n",
    "import collections\n",
    "import pandas as pd"
   ]
  },
  {
   "cell_type": "markdown",
   "metadata": {},
   "source": [
    "### Set up spotify scrapping functions"
   ]
  },
  {
   "cell_type": "code",
   "execution_count": 15,
   "metadata": {},
   "outputs": [],
   "source": [
    "token = 'BQDSeGY78Tp5YOx7C7_dRFfB33FHEHdkO2uDSJKCOtptS4o1U422dR4Amz-ftYV_NWaNfdRksDAwL7PQG-BNKHAOGPf8kfLIUzMpKKt8z4AQrIW-xoeaPf6LpUlIzDya4LytgnhVGd-YktdqKdMJf67TCpQ'\n",
    "\n",
    "header = {\n",
    "    'Authorization': 'Bearer ' + token,\n",
    "    'Accept': 'application/json',\n",
    "    'Content-Type': 'application/json'\n",
    "}"
   ]
  },
  {
   "cell_type": "code",
   "execution_count": 3,
   "metadata": {},
   "outputs": [],
   "source": [
    "final_json = []\n",
    "intermediary_results = []"
   ]
  },
  {
   "cell_type": "code",
   "execution_count": 5,
   "metadata": {},
   "outputs": [],
   "source": [
    "def song_features(song_id):\n",
    "    query = 'audio-features/' + str(song_id)\n",
    "    r = requests.request('get', 'https://api.spotify.com/v1/' + query, headers=header)\n",
    "    return r.json()\n",
    "\n",
    "\n",
    "def get_rateYourMusic_tuples(filenames, table_index=3) :\n",
    "    \n",
    "    #song year, artist and title\n",
    "    searches = []\n",
    "    \n",
    "    for f in filenames :\n",
    "\n",
    "        res = bs(open(f),\"html5lib\")\n",
    "        for t in res.findAll(attrs={'class': \"mbgen\"})[table_index].findAll(\"tr\")[1:] :\n",
    "                        \n",
    "            if len(t.findAll(\"td\")) >= 3 :\n",
    "                \n",
    "                \n",
    "            \n",
    "                year = t.findAll(\"td\")[0].text\n",
    "                artist = t.findAll(\"td\")[1].text\n",
    "                title = t.findAll(\"td\")[2].text\n",
    "\n",
    "                if '/' in title :\n",
    "                    searches.append([year, artist, title.split('/')[0].strip()])\n",
    "                    searches.append([year, artist, title.split('/')[1].strip()])\n",
    "\n",
    "                else :\n",
    "                    searches.append([year, artist, title])\n",
    "\n",
    "    return searches\n",
    "\n",
    "def search_tuples(genre, searches) :\n",
    "    \n",
    "    found = 0\n",
    "    all_info = []\n",
    "\n",
    "    for e, s in tqdm.tqdm(enumerate(searches)) :\n",
    "        result  = requests.request('get', 'https://api.spotify.com/v1/search?q=album:'+ quote(s[2]) + \"%20artist:\" + quote(s[1]) + \"&type=track\", headers=header).json()\n",
    "        time.sleep(0.3)\n",
    "        items = result['tracks']['items']\n",
    "        \n",
    "        \n",
    "        #We found the song\n",
    "        if len(items) != 0 and ('error' not in result.keys()) :           \n",
    "            \n",
    "            album_type = result['tracks']['items'][0]['album']['album_type']\n",
    "            \n",
    "            #the song does not come from a compilation\n",
    "            if album_type != 'compilation' :\n",
    "            \n",
    "                album = result['tracks']['items'][0]['album']['name']\n",
    "                name = result['tracks']['items'][0]['name']\n",
    "\n",
    "                song_id = result['tracks']['items'][0]['id']   \n",
    "                song_release = items[0]['album']['release_date']\n",
    "                features = song_features(song_id)\n",
    "\n",
    "                if 'error' not in features.keys() :\n",
    "\n",
    "                    found += 1\n",
    "\n",
    "                    #get the preview url\n",
    "                    result_preview  = requests.request('get', \"https://api.spotify.com/v1/tracks/\" + str(song_id), headers=header).json()\n",
    "                    time.sleep(0.3)\n",
    "                    preview = result_preview['preview_url']\n",
    "\n",
    "                    if preview is None :\n",
    "                        preview = \"\"\n",
    "\n",
    "                    \n",
    "                    cover = \"\"\n",
    "\n",
    "                    if len(items[0]['album']['images']) != 0 :                \n",
    "                        cover = items[0]['album']['images'][0]['url']            \n",
    "                    else :\n",
    "                        cover = \"https://vignette.wikia.nocookie.net/uncyclopedia/images/a/a0/Questionmark.jpg/revision/latest?cb=20090616065802&format=original\"\n",
    "\n",
    "                    artists = s[1]\n",
    "\n",
    "\n",
    "\n",
    "                    song_dict = {'year' : song_release,\n",
    "                                 'artists' : artists,\n",
    "                                 'name' : name,\n",
    "                                 'cover' : cover,\n",
    "                                 'album' : album,\n",
    "                                 'genre' : genre,\n",
    "                                'danceability' : features['danceability'],\n",
    "                                'energy' : features['energy'],\n",
    "                                'key' : features['key'],\n",
    "                                'loudness' : features['loudness'],\n",
    "                                'mode' : features['mode'],\n",
    "                                'speechiness' : features['speechiness'],\n",
    "                                'acousticness' : features['acousticness'],\n",
    "                                'instrumentalness' : features['instrumentalness'],\n",
    "                                'liveness' : features['liveness'],\n",
    "                                'valence' : features['valence'],\n",
    "                                'tempo' : features['tempo'],\n",
    "                                'duration_ms' : features['duration_ms'],\n",
    "                                'preview' : preview}\n",
    "\n",
    "\n",
    "                    all_info.append(song_dict)\n",
    "                    \n",
    "            \n",
    "                \n",
    "    print(\"found : \", found , \", (\" + str(100*found/len(searches)) + \"%) for genre \" + genre)\n",
    "    return all_info\n"
   ]
  },
  {
   "cell_type": "markdown",
   "metadata": {},
   "source": [
    "# RateYourMusic"
   ]
  },
  {
   "cell_type": "markdown",
   "metadata": {},
   "source": [
    "### Download Contemporary RnB titles (93 songs)"
   ]
  },
  {
   "cell_type": "markdown",
   "metadata": {},
   "source": [
    "From Itunes (70)"
   ]
  },
  {
   "cell_type": "code",
   "execution_count": 5,
   "metadata": {
    "scrolled": true
   },
   "outputs": [
    {
     "name": "stderr",
     "output_type": "stream",
     "text": [
      "100%|██████████| 95/95 [00:43<00:00,  1.74it/s]\n"
     ]
    }
   ],
   "source": [
    "# get names from itunes\n",
    "url = 'https://itunes.apple.com/search?term=song&genreId=1136&limit=200'\n",
    "\n",
    "response = requests.get(url)\n",
    "data = response.json()\n",
    "\n",
    "found = 0\n",
    "\n",
    "for e in tqdm.tqdm(data['results']):\n",
    "    result  = requests.request('get', 'https://api.spotify.com/v1/search?q='+ quote(e['trackName']) + \"%20artist:\" + quote(e['artistName']) + \"&type=track\", headers=header).json()\n",
    "    \n",
    "    items = result['tracks']['items']\n",
    "    \n",
    "    \n",
    "    #We found the song\n",
    "    if len(items) != 0 and ('error' not in result.keys()):\n",
    "        \n",
    "        found += 1\n",
    "    \n",
    "        song_id = result['tracks']['items'][0]['id']    \n",
    "        features = song_features(song_id)\n",
    "        \n",
    "        #get the preview url\n",
    "        result_preview  = requests.request('get', \"https://api.spotify.com/v1/tracks/\" + str(song_id), headers=header).json()\n",
    "        time.sleep(0.3)\n",
    "        preview = result_preview['preview_url']\n",
    "\n",
    "        if preview is None :\n",
    "            preview = \"\"\n",
    "\n",
    "        year = e['releaseDate']\n",
    "        cover = e['artworkUrl100']\n",
    "        artists = \" and \".join([a['name'] for a in result['tracks']['items'][0]['artists']])\n",
    "        name = e['trackName']\n",
    "        album = result['tracks']['items'][0]['album']['name']\n",
    "\n",
    "\n",
    "\n",
    "        song_dict = {'year' : year,\n",
    "                     'artists' : artists,\n",
    "                     'name' : name,\n",
    "                     'cover' : cover,\n",
    "                     'album' : album,\n",
    "                     'genre' : \"contemporary-rnb\",\n",
    "                    'danceability' : features['danceability'],\n",
    "                    'energy' : features['energy'],\n",
    "                    'key' : features['key'],\n",
    "                    'loudness' : features['loudness'],\n",
    "                    'mode' : features['mode'],\n",
    "                    'speechiness' : features['speechiness'],\n",
    "                    'acousticness' : features['acousticness'],\n",
    "                    'instrumentalness' : features['instrumentalness'],\n",
    "                    'liveness' : features['liveness'],\n",
    "                    'valence' : features['liveness'],\n",
    "                    'tempo' : features['tempo'],\n",
    "                    'duration_ms' : features['duration_ms'],\n",
    "                    'preview' : preview}\n",
    "\n",
    "\n",
    "        final_json.append(song_dict)\n",
    "        \n",
    "intermediary_results = final_json.copy()"
   ]
  },
  {
   "cell_type": "markdown",
   "metadata": {},
   "source": [
    "### Download british RnB (148 songs)"
   ]
  },
  {
   "cell_type": "code",
   "execution_count": 6,
   "metadata": {
    "scrolled": true
   },
   "outputs": [
    {
     "name": "stderr",
     "output_type": "stream",
     "text": [
      "426it [03:27,  1.66it/s]\n",
      "0it [00:00, ?it/s]"
     ]
    },
    {
     "name": "stdout",
     "output_type": "stream",
     "text": [
      "found :  67 , (15.727699530516432%) for genre british-rnb\n"
     ]
    },
    {
     "name": "stderr",
     "output_type": "stream",
     "text": [
      "426it [03:39,  2.07it/s]"
     ]
    },
    {
     "name": "stdout",
     "output_type": "stream",
     "text": [
      "found :  81 , (19.014084507042252%) for genre british-rnb\n"
     ]
    },
    {
     "name": "stderr",
     "output_type": "stream",
     "text": [
      "\n"
     ]
    }
   ],
   "source": [
    "file_names_brit = []\n",
    "for nb in range(250) :\n",
    "    file_name = \"data/british_rnb/british_rnb_\" + str(nb) + \".html\"\n",
    "    if os.path.isfile(file_name) :\n",
    "        file_names_brit.append(file_name)\n",
    "\n",
    "#break the search in two\n",
    "brit_tuples = get_rateYourMusic_tuples(file_names_brit)    \n",
    "\n",
    "\n",
    "final_json.extend(search_tuples(\"british-rnb\", brit_tuples[:int(len(brit_tuples)/2)]))\n",
    "intermediary_results = final_json.copy()\n",
    "\n",
    "final_json.extend(search_tuples(\"british-rnb\", brit_tuples[int(len(brit_tuples)/2):]))\n",
    "intermediary_results = final_json.copy()"
   ]
  },
  {
   "cell_type": "markdown",
   "metadata": {},
   "source": [
    "### Download alternative RnB (640 songs)"
   ]
  },
  {
   "cell_type": "code",
   "execution_count": 7,
   "metadata": {
    "scrolled": true
   },
   "outputs": [
    {
     "name": "stderr",
     "output_type": "stream",
     "text": [
      "1217it [13:31,  1.52it/s]"
     ]
    },
    {
     "name": "stdout",
     "output_type": "stream",
     "text": [
      "found :  640 , (52.58833196384552%) for genre alternative-rnb\n"
     ]
    },
    {
     "name": "stderr",
     "output_type": "stream",
     "text": [
      "\n"
     ]
    }
   ],
   "source": [
    "file_names_alt = []\n",
    "for nb in range(250) :\n",
    "    file_name = \"data/alternative_rnb/alt_songs_\" + str(nb) + \".html\"\n",
    "    if os.path.isfile(file_name) :\n",
    "        file_names_alt.append(file_name)\n",
    "\n",
    "alt_tuples = get_rateYourMusic_tuples(file_names_alt)\n",
    "\n",
    "        \n",
    "final_json.extend(search_tuples(\"alternative-rnb\", alt_tuples))\n",
    "intermediary_results = final_json.copy()"
   ]
  },
  {
   "cell_type": "markdown",
   "metadata": {},
   "source": [
    "### Download new jack swing RnB (146 songs)"
   ]
  },
  {
   "cell_type": "code",
   "execution_count": 13,
   "metadata": {
    "scrolled": true
   },
   "outputs": [
    {
     "name": "stderr",
     "output_type": "stream",
     "text": [
      "560it [05:03,  1.78it/s]"
     ]
    },
    {
     "name": "stdout",
     "output_type": "stream",
     "text": [
      "found :  146 , (26.071428571428573%) for genre new-jack-swing-rnb\n"
     ]
    },
    {
     "name": "stderr",
     "output_type": "stream",
     "text": [
      "\n"
     ]
    }
   ],
   "source": [
    "file_names_nj = []\n",
    "for nb in range(250) :\n",
    "    file_name = \"data/new_jack_swing_rnb/njs_\" + str(nb) + \".html\"\n",
    "    if os.path.isfile(file_name) :\n",
    "        file_names_nj.append(file_name)\n",
    "\n",
    "njs_tuples = get_rateYourMusic_tuples(file_names_nj)\n",
    "        \n",
    "final_json.extend(search_tuples(\"new-jack-swing-rnb\", njs_tuples))\n",
    "intermediary_results = final_json.copy()"
   ]
  },
  {
   "cell_type": "markdown",
   "metadata": {},
   "source": [
    "### Download new Orleans RnB (247 songs)"
   ]
  },
  {
   "cell_type": "code",
   "execution_count": 7,
   "metadata": {
    "scrolled": true
   },
   "outputs": [
    {
     "name": "stderr",
     "output_type": "stream",
     "text": [
      "1087it [09:52,  2.32it/s]"
     ]
    },
    {
     "name": "stdout",
     "output_type": "stream",
     "text": [
      "found :  247 , (22.723091076356944%) for genre new-orleans-rnb\n"
     ]
    },
    {
     "name": "stderr",
     "output_type": "stream",
     "text": [
      "\n"
     ]
    }
   ],
   "source": [
    "file_names_no = []\n",
    "for nb in range(250) :\n",
    "    file_name = \"data/new_orleans_rnb/no_\" + str(nb) + \".html\"\n",
    "    if os.path.isfile(file_name) :\n",
    "        file_names_no.append(file_name)\n",
    "        \n",
    "no_tuples = get_rateYourMusic_tuples(file_names_no)\n",
    "\n",
    "final_json.extend(search_tuples(\"new-orleans-rnb\", no_tuples))\n",
    "intermediary_results = final_json.copy()"
   ]
  },
  {
   "cell_type": "markdown",
   "metadata": {},
   "source": [
    "### Download Jump Blues (159 songs)"
   ]
  },
  {
   "cell_type": "code",
   "execution_count": 9,
   "metadata": {
    "scrolled": true
   },
   "outputs": [
    {
     "name": "stderr",
     "output_type": "stream",
     "text": [
      "718it [06:32,  1.84it/s]"
     ]
    },
    {
     "name": "stdout",
     "output_type": "stream",
     "text": [
      "found :  159 , (22.144846796657383%) for genre jump-blues\n"
     ]
    },
    {
     "name": "stderr",
     "output_type": "stream",
     "text": [
      "\n"
     ]
    }
   ],
   "source": [
    "file_names_jb = []\n",
    "for nb in range(250) :\n",
    "    file_name = \"data/jump_blues_rnb/jp_\" + str(nb) + \".html\"\n",
    "    if os.path.isfile(file_name) :\n",
    "        file_names_jb.append(file_name)\n",
    "\n",
    "jb_tuples = get_rateYourMusic_tuples(file_names_jb)\n",
    "        \n",
    "final_json.extend(search_tuples(\"jump-blues\", jb_tuples))\n",
    "intermediary_results = final_json.copy()"
   ]
  },
  {
   "cell_type": "markdown",
   "metadata": {},
   "source": [
    "### Download blue-eyed soul (622 songs)"
   ]
  },
  {
   "cell_type": "code",
   "execution_count": 10,
   "metadata": {},
   "outputs": [
    {
     "name": "stderr",
     "output_type": "stream",
     "text": [
      "2236it [21:12,  1.25it/s]"
     ]
    },
    {
     "name": "stdout",
     "output_type": "stream",
     "text": [
      "found :  622 , (27.817531305903398%) for genre blue-eyed-soul\n"
     ]
    },
    {
     "name": "stderr",
     "output_type": "stream",
     "text": [
      "\n"
     ]
    }
   ],
   "source": [
    "file_names_bes = []\n",
    "for nb in range(250) :\n",
    "    file_name = \"data/blue_eyed_soul/blue_eyed_soul_\" + str(nb) + \".html\"\n",
    "    if os.path.isfile(file_name) :\n",
    "        file_names_bes.append(file_name)\n",
    "\n",
    "bes_tuples = get_rateYourMusic_tuples(file_names_bes)\n",
    "        \n",
    "final_json.extend(search_tuples(\"blue-eyed-soul\", bes_tuples))"
   ]
  },
  {
   "cell_type": "code",
   "execution_count": 11,
   "metadata": {},
   "outputs": [],
   "source": [
    "#Dump everything into the data\n",
    "json.dump(final_json, open(\"rnb_data.json\", 'w'))"
   ]
  },
  {
   "cell_type": "markdown",
   "metadata": {},
   "source": [
    "# AllMusic"
   ]
  },
  {
   "cell_type": "markdown",
   "metadata": {},
   "source": [
    "### Contemporary rnb (720)"
   ]
  },
  {
   "cell_type": "code",
   "execution_count": 12,
   "metadata": {},
   "outputs": [
    {
     "name": "stderr",
     "output_type": "stream",
     "text": [
      "1305it [15:38,  1.49it/s]"
     ]
    },
    {
     "name": "stdout",
     "output_type": "stream",
     "text": [
      "found :  720 , (55.172413793103445%) for genre contemporary-rnb\n"
     ]
    },
    {
     "name": "stderr",
     "output_type": "stream",
     "text": [
      "\n"
     ]
    }
   ],
   "source": [
    "cont_tuples = json.load(open(\"data/All_Music/parsed/am_contemporary_rnb.json\"))\n",
    "final_json.extend(search_tuples(\"contemporary-rnb\", cont_tuples))\n",
    "intermediary_results = final_json.copy()"
   ]
  },
  {
   "cell_type": "markdown",
   "metadata": {},
   "source": [
    "### early rnb (198)"
   ]
  },
  {
   "cell_type": "code",
   "execution_count": 16,
   "metadata": {},
   "outputs": [
    {
     "name": "stderr",
     "output_type": "stream",
     "text": [
      "884it [08:19,  2.34it/s]"
     ]
    },
    {
     "name": "stdout",
     "output_type": "stream",
     "text": [
      "found :  198 , (22.398190045248867%) for genre contemporary-rnb\n"
     ]
    },
    {
     "name": "stderr",
     "output_type": "stream",
     "text": [
      "\n"
     ]
    }
   ],
   "source": [
    "early_tuples = json.load(open(\"data/All_Music/parsed/am_early_rnb.json\"))\n",
    "final_json.extend(search_tuples(\"contemporary-rnb\", early_tuples))\n",
    "intermediary_results = final_json.copy()"
   ]
  },
  {
   "cell_type": "markdown",
   "metadata": {},
   "source": [
    "### motown (86)"
   ]
  },
  {
   "cell_type": "code",
   "execution_count": 19,
   "metadata": {},
   "outputs": [
    {
     "name": "stderr",
     "output_type": "stream",
     "text": [
      "346it [03:13,  2.22it/s]"
     ]
    },
    {
     "name": "stdout",
     "output_type": "stream",
     "text": [
      "found :  86 , (24.85549132947977%) for genre contemporary-rnb\n"
     ]
    },
    {
     "name": "stderr",
     "output_type": "stream",
     "text": [
      "\n"
     ]
    }
   ],
   "source": [
    "mo_tuples = json.load(open(\"data/All_Music/parsed/am_motown.json\"))\n",
    "final_json.extend(search_tuples(\"contemporary-rnb\", mo_tuples))\n",
    "intermediary_results = final_json.copy()"
   ]
  },
  {
   "cell_type": "code",
   "execution_count": 20,
   "metadata": {},
   "outputs": [
    {
     "data": {
      "text/plain": [
       "3036"
      ]
     },
     "execution_count": 20,
     "metadata": {},
     "output_type": "execute_result"
    }
   ],
   "source": [
    "json.dump(final_json, open())"
   ]
  },
  {
   "cell_type": "markdown",
   "metadata": {},
   "source": [
    "# visualize number of songs per year"
   ]
  },
  {
   "cell_type": "code",
   "execution_count": null,
   "metadata": {},
   "outputs": [],
   "source": [
    "import collections\n",
    "\n",
    "#all possible genres\n",
    "genres = ['contemporary-rnb', 'british-rnb', 'new-orleans-rnb', \n",
    "          'alternative-rnb', 'new-jack-swing-rnb', 'blue-eyed-soul', 'jump-blues']\n",
    "\n",
    "#compute earliest and latest year globally\n",
    "all_years = [d['year'] for d in final_json if (d['year'] != '')]\n",
    "min_all_years, max_all_years = int(min(all_years)), int(max(all_years)) + 1\n",
    "\n",
    "#plot settings\n",
    "width = 1\n",
    "figure(figsize=(15,10))\n",
    "plots = []\n",
    "\n",
    "#initialize all years to zero\n",
    "seen_years = collections.Counter()\n",
    "for y in range(min_all_years, max_all_years) :\n",
    "        seen_years[str(y)] = 0\n",
    "\n",
    "\n",
    "\n",
    "for g in genres :\n",
    "\n",
    "    #years of genre songs\n",
    "    genre_years = [d['year'] for d in final_json if ((d[\"genre\"] == g) and (d['year'] != ''))]\n",
    "    \n",
    "    #create counter\n",
    "    years_per_genre = collections.Counter()\n",
    "    \n",
    "    \n",
    "    #put 0 as default value for all years\n",
    "    for y in range(min_all_years, max_all_years) :\n",
    "        years_per_genre[str(y)] = 0\n",
    "        \n",
    "    #count values\n",
    "    years_per_genre.update(genre_years)\n",
    "    \n",
    "    #create plot variables\n",
    "    labels, values = zip(*years_per_genre.items())\n",
    "    labels_all, values_all = zip(*seen_years.items())\n",
    "    indexes = np.arange(len(labels))    \n",
    "    \n",
    "    #plot with bottom\n",
    "    p = plt.bar(indexes, values, width, bottom=values_all)    \n",
    "    plots.append(p)\n",
    "    \n",
    "    #update seen years counter\n",
    "    seen_years.update(genre_years)\n",
    "\n",
    "#settings for axes\n",
    "plt.xticks(indexes + width * 0.5, labels, rotation=90)\n",
    "plt.xlabel(\"release year\")\n",
    "plt.ylabel(\"number of songs\")\n",
    "plt.ylim(ymax = 160, ymin = 0)\n",
    "\n",
    "#general plot settings\n",
    "plt.title(\"number of RnB songs per genre and per year\")\n",
    "plt.legend(plots, genres)\n",
    "\n",
    "# plot\n",
    "plt.savefig(\"nb_of_songs.png\")\n",
    "plt.show()\n"
   ]
  },
  {
   "cell_type": "markdown",
   "metadata": {},
   "source": [
    "# compute discriminative coefficients for each feature and each year "
   ]
  },
  {
   "cell_type": "code",
   "execution_count": null,
   "metadata": {},
   "outputs": [],
   "source": [
    "[f for f in final_json_bis if f['genre'] == 'contemporary-rnb']"
   ]
  },
  {
   "cell_type": "code",
   "execution_count": null,
   "metadata": {},
   "outputs": [],
   "source": [
    "years = range(1900, 2050)\n",
    "best_features = dict()\n",
    "\n",
    "for y in years :\n",
    "    \n",
    "    # load data\n",
    "    names = ['energy', 'loudness', 'speechiness', 'acousticness', 'instrumentalness', 'liveness', 'valence', 'tempo']\n",
    "    targets = np.array([c['genre'] for c in final_json if c['year'] == str(y)])\n",
    "    \n",
    "    if len(set(targets)) > 1:\n",
    "\n",
    "        features = np.array([c['danceability'] for c in final_json if c['year'] == str(y)])\n",
    "        \n",
    "        \n",
    "        for n in names :\n",
    "            features = np.vstack((features, np.array([c[n] for c in final_json if c['year'] == str(y)])))\n",
    "\n",
    "\n",
    "        model = LogisticRegression()\n",
    "        rfe = RFE(model, 2)\n",
    "        fit = rfe.fit(features.T, targets)\n",
    "\n",
    "        best_for_year = sorted([c[0] for c in zip(['danceability'] + names, fit.support_) if c[1]])\n",
    "        best_features[y] = best_for_year\n",
    "        \n",
    "best_features"
   ]
  }
 ],
 "metadata": {
  "kernelspec": {
   "display_name": "Python 3",
   "language": "python",
   "name": "python3"
  },
  "language_info": {
   "codemirror_mode": {
    "name": "ipython",
    "version": 3
   },
   "file_extension": ".py",
   "mimetype": "text/x-python",
   "name": "python",
   "nbconvert_exporter": "python",
   "pygments_lexer": "ipython3",
   "version": "3.6.7"
  }
 },
 "nbformat": 4,
 "nbformat_minor": 2
}
