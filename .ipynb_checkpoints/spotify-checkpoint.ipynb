{
 "cells": [
  {
   "cell_type": "code",
   "execution_count": 14,
   "metadata": {},
   "outputs": [],
   "source": [
    "import requests\n",
    "import urllib.request\n",
    "from urllib.parse import quote\n",
    "import numpy as np\n",
    "from tqdm import tqdm\n",
    "import contextlib\n",
    "import json\n",
    "import tqdm\n",
    "from bs4 import BeautifulSoup as bs\n",
    "import time\n",
    "import matplotlib.pyplot as plt\n",
    "import collections\n",
    "import pandas as pd"
   ]
  },
  {
   "cell_type": "markdown",
   "metadata": {},
   "source": [
    "### Set up spotify scrapping functions"
   ]
  },
  {
   "cell_type": "code",
   "execution_count": 2,
   "metadata": {},
   "outputs": [],
   "source": [
    "token = 'BQBlWwBaYmPf9rBKfbSYad_9fMzogOuL1jFcGMk5vl4yC7UXc1EGE1RwN_nlYlRmhNJUt61M0dqytfMjxxcqGPQUbbOr4UCs78xgEbg0g7pzlvd68JCyJcvJL4Puy-Wg6JQveBvnKYA_NQ'\n",
    "\n",
    "header = {\n",
    "    'Authorization': 'Bearer ' + token,\n",
    "    'Accept': 'application/json',\n",
    "    'Content-Type': 'application/json'\n",
    "}\n",
    "\n",
    "final_json = []"
   ]
  },
  {
   "cell_type": "code",
   "execution_count": 3,
   "metadata": {},
   "outputs": [],
   "source": [
    "def album_spotify_id(album_name, artist_name=None):\n",
    "    query = None\n",
    "    if artist_name is None:\n",
    "        query = quote(album_name) + '&type=album'\n",
    "    else:\n",
    "        query = 'album:' + quote(album_name) + '%20artist:' + quote(artist_name) + '&type=album'\n",
    "    r = requests.request('get', 'https://api.spotify.com/v1/search?q=' + query, headers=header)\n",
    "    \n",
    "    if len(r.json()['albums']['items']) != 0:\n",
    "        return r.json()['albums']['items'][0]['id']\n",
    "    else:\n",
    "        return None\n",
    "\n",
    "def album_tracklist(album_id):\n",
    "    query = 'albums/' + album_id + '/tracks'\n",
    "    r = requests.request('get', 'https://api.spotify.com/v1/' + query, headers=header)\n",
    "    return [(song['id'], song['name']) for song in r.json()['items']]\n",
    "\n",
    "def song_features(song_id):\n",
    "    query = 'audio-features/' + str(song_id)\n",
    "    r = requests.request('get', 'https://api.spotify.com/v1/' + query, headers=header)\n",
    "    return r.json()\n",
    "\n",
    "def song_features_for_album(album_name, artist_name=None):\n",
    "    album_id = album_spotify_id(album_name, artist_name)\n",
    "    if album_id is None:\n",
    "        return None\n",
    "    tracklist = album_tracklist(album_id)        \n",
    "    ids = [song[0] for song in tracklist]\n",
    "    names = [song[1] for song in tracklist]\n",
    "    return song_features(ids, names)\n",
    "\n",
    "def get_rateYourMusic_songs(genre, filenames, table_index=3) :\n",
    "    \n",
    "    #song year, artist and title\n",
    "    searches = []\n",
    "    all_info = []\n",
    "    \n",
    "    for f in filenames :\n",
    "\n",
    "        res = bs(open(f),\"html5lib\")\n",
    "        for t in res.findAll(attrs={'class': \"mbgen\"})[table_index].findAll(\"tr\")[1:] :\n",
    "                        \n",
    "            if len(t.findAll(\"td\")) >= 3 :\n",
    "                \n",
    "                \n",
    "            \n",
    "                year = t.findAll(\"td\")[0].text\n",
    "                artist = t.findAll(\"td\")[1].text\n",
    "                title = t.findAll(\"td\")[2].text\n",
    "\n",
    "                if '/' in title :\n",
    "                    searches.append([year, artist, title.split('/')[0].strip()])\n",
    "                    searches.append([year, artist, title.split('/')[1].strip()])\n",
    "\n",
    "                else :\n",
    "                    searches.append([year, artist, title])\n",
    "\n",
    "    found = 0\n",
    "\n",
    "    for s in tqdm.tqdm(searches) :\n",
    "        result  = requests.request('get', 'https://api.spotify.com/v1/search?q='+ quote(s[2]) + \"%20artist:\" + quote(s[1]) + \"&type=track\", headers=header).json()\n",
    "        time.sleep(0.2)\n",
    "        items = result['tracks']['items']\n",
    "\n",
    "\n",
    "        #We found the song\n",
    "        if len(items) != 0 :\n",
    "\n",
    "            found += 1\n",
    "\n",
    "            song_id = result['tracks']['items'][0]['id']   \n",
    "            song_release = items[0]['album']['release_date']\n",
    "            features = song_features(song_id)\n",
    "\n",
    "            year = s[0]\n",
    "            cover = \"\"\n",
    "            \n",
    "            if len(items[0]['album']['images']) != 0 :                \n",
    "                cover = items[0]['album']['images'][0]['url']            \n",
    "            else :\n",
    "                cover = \"https://vignette.wikia.nocookie.net/uncyclopedia/images/a/a0/Questionmark.jpg/revision/latest?cb=20090616065802&format=original\"\n",
    "            \n",
    "            artists = s[1]\n",
    "            name = s[2]\n",
    "            album = items[0]['album']['name']\n",
    "\n",
    "\n",
    "\n",
    "            song_dict = {'year' : year,\n",
    "                         'artists' : artists,\n",
    "                         'name' : name,\n",
    "                         'cover' : cover,\n",
    "                         'album' : album,\n",
    "                         'genre' : genre,\n",
    "                        'danceability' : features['danceability'],\n",
    "                        'energy' : features['energy'],\n",
    "                        'key' : features['key'],\n",
    "                        'loudness' : features['loudness'],\n",
    "                        'mode' : features['mode'],\n",
    "                        'speechiness' : features['speechiness'],\n",
    "                        'acousticness' : features['acousticness'],\n",
    "                        'instrumentalness' : features['instrumentalness'],\n",
    "                        'liveness' : features['liveness'],\n",
    "                        'valence' : features['liveness'],\n",
    "                        'tempo' : features['tempo'],\n",
    "                        'duration_ms' : features['duration_ms']}\n",
    "\n",
    "\n",
    "            all_info.append(song_dict)\n",
    "    print(\"found : \", found , \", (\" + str(100*found/len(searches)) + \"%) for genre \" + genre)\n",
    "    return all_info\n"
   ]
  },
  {
   "cell_type": "markdown",
   "metadata": {},
   "source": [
    "# Download Contemporary RnB titles (94 songs)"
   ]
  },
  {
   "cell_type": "markdown",
   "metadata": {},
   "source": [
    "From Itunes (70)"
   ]
  },
  {
   "cell_type": "code",
   "execution_count": 4,
   "metadata": {
    "scrolled": true
   },
   "outputs": [
    {
     "name": "stderr",
     "output_type": "stream",
     "text": [
      "100%|██████████| 95/95 [00:16<00:00,  5.26it/s]\n"
     ]
    }
   ],
   "source": [
    "# get names from itunes\n",
    "url = 'https://itunes.apple.com/search?term=song&genreId=1136&limit=200'\n",
    "\n",
    "response = requests.get(url)\n",
    "data = response.json()\n",
    "\n",
    "found = 0\n",
    "\n",
    "for e in tqdm.tqdm(data['results']):\n",
    "    result  = requests.request('get', 'https://api.spotify.com/v1/search?q='+ quote(e['trackName']) + \"%20artist:\" + quote(e['artistName']) + \"&type=track\", headers=header).json()\n",
    "    \n",
    "    items = result['tracks']['items']\n",
    "    \n",
    "    \n",
    "    #We found the song\n",
    "    if len(items) != 0 :\n",
    "        \n",
    "        found += 1\n",
    "    \n",
    "        song_id = result['tracks']['items'][0]['id']    \n",
    "        features = song_features(song_id)\n",
    "\n",
    "        year = e['releaseDate'][:4]\n",
    "        cover = e['artworkUrl100']\n",
    "        artists = [a['name'] for a in result['tracks']['items'][0]['artists']]\n",
    "        name = e['trackName']\n",
    "        album = result['tracks']['items'][0]['album']['name']\n",
    "\n",
    "\n",
    "\n",
    "        song_dict = {'year' : year,\n",
    "                     'artists' : artists,\n",
    "                     'name' : name,\n",
    "                     'cover' : cover,\n",
    "                     'album' : album,\n",
    "                     'genre' : \"contemporary-rnb\",\n",
    "                    'danceability' : features['danceability'],\n",
    "                    'energy' : features['energy'],\n",
    "                    'key' : features['key'],\n",
    "                    'loudness' : features['loudness'],\n",
    "                    'mode' : features['mode'],\n",
    "                    'speechiness' : features['speechiness'],\n",
    "                    'acousticness' : features['acousticness'],\n",
    "                    'instrumentalness' : features['instrumentalness'],\n",
    "                    'liveness' : features['liveness'],\n",
    "                    'valence' : features['liveness'],\n",
    "                    'tempo' : features['tempo'],\n",
    "                    'duration_ms' : features['duration_ms']}\n",
    "\n",
    "\n",
    "        final_json.append(song_dict)"
   ]
  },
  {
   "cell_type": "markdown",
   "metadata": {},
   "source": [
    "From rateYourMusic (24 songs)"
   ]
  },
  {
   "cell_type": "code",
   "execution_count": 5,
   "metadata": {},
   "outputs": [
    {
     "name": "stderr",
     "output_type": "stream",
     "text": [
      "100%|██████████| 40/40 [00:14<00:00,  2.85it/s]"
     ]
    },
    {
     "name": "stdout",
     "output_type": "stream",
     "text": [
      "found :  24 , (60.0%) for genre contemporary RnB\n"
     ]
    },
    {
     "name": "stderr",
     "output_type": "stream",
     "text": [
      "\n"
     ]
    }
   ],
   "source": [
    "final_json.extend(get_rateYourMusic_songs(\"contemporary-rnb\", [\"data/contemporary_rnb/cont_songs_1.html\"], table_index=2))"
   ]
  },
  {
   "cell_type": "markdown",
   "metadata": {},
   "source": [
    "# Download british RnB (223 songs)"
   ]
  },
  {
   "cell_type": "code",
   "execution_count": 6,
   "metadata": {},
   "outputs": [
    {
     "name": "stderr",
     "output_type": "stream",
     "text": [
      "100%|██████████| 356/356 [02:16<00:00,  2.65it/s]"
     ]
    },
    {
     "name": "stdout",
     "output_type": "stream",
     "text": [
      "found :  223 , (62.640449438202246%) for genre british RnB\n"
     ]
    },
    {
     "name": "stderr",
     "output_type": "stream",
     "text": [
      "\n"
     ]
    }
   ],
   "source": [
    "final_json.extend(get_rateYourMusic_songs(\"british-rnb\", [\"data/british_rnb/brit_songs_\" + str(c) + \".html\" for c in range(1, 11) ]))"
   ]
  },
  {
   "cell_type": "markdown",
   "metadata": {},
   "source": [
    "# Download alternative RnB (198 songs)"
   ]
  },
  {
   "cell_type": "code",
   "execution_count": 7,
   "metadata": {
    "scrolled": true
   },
   "outputs": [
    {
     "name": "stderr",
     "output_type": "stream",
     "text": [
      "100%|██████████| 278/278 [01:44<00:00,  2.86it/s]"
     ]
    },
    {
     "name": "stdout",
     "output_type": "stream",
     "text": [
      "found :  198 , (71.22302158273381%) for genre alternative RnB\n"
     ]
    },
    {
     "name": "stderr",
     "output_type": "stream",
     "text": [
      "\n"
     ]
    }
   ],
   "source": [
    "final_json.extend(get_rateYourMusic_songs(\"alternative-rnb\", [\"data/alternative_rnb/alt_songs_\" + str(c) + \".html\" for c in range(1, 12) ]))"
   ]
  },
  {
   "cell_type": "markdown",
   "metadata": {},
   "source": [
    "# Download new jack swing RnB (197 songs)"
   ]
  },
  {
   "cell_type": "code",
   "execution_count": 8,
   "metadata": {
    "scrolled": true
   },
   "outputs": [
    {
     "name": "stderr",
     "output_type": "stream",
     "text": [
      "100%|██████████| 300/300 [01:51<00:00,  2.97it/s]"
     ]
    },
    {
     "name": "stdout",
     "output_type": "stream",
     "text": [
      "found :  197 , (65.66666666666667%) for genre new jack swing RnB\n"
     ]
    },
    {
     "name": "stderr",
     "output_type": "stream",
     "text": [
      "\n"
     ]
    }
   ],
   "source": [
    "final_json.extend(get_rateYourMusic_songs(\"new-jack-swing-rnb\", [\"data/new_jack_swing_rnb/njs_rnb_\" + str(c) + \".html\" for c in range(1, 12) ]))"
   ]
  },
  {
   "cell_type": "markdown",
   "metadata": {},
   "source": [
    "# Download new Orleans RnB (253 songs)"
   ]
  },
  {
   "cell_type": "code",
   "execution_count": 9,
   "metadata": {
    "scrolled": true
   },
   "outputs": [
    {
     "name": "stderr",
     "output_type": "stream",
     "text": [
      "100%|██████████| 394/394 [02:30<00:00,  3.09it/s]"
     ]
    },
    {
     "name": "stdout",
     "output_type": "stream",
     "text": [
      "found :  253 , (64.21319796954315%) for genre new Orleans RnB\n"
     ]
    },
    {
     "name": "stderr",
     "output_type": "stream",
     "text": [
      "\n"
     ]
    }
   ],
   "source": [
    "final_json.extend(get_rateYourMusic_songs(\"new-orleans-rnb\", [\"data/new_orleans_rnb/new_orleans_rnb\" + str(c) + \".html\" for c in range(1, 12) ]))"
   ]
  },
  {
   "cell_type": "markdown",
   "metadata": {},
   "source": [
    "# Download Jump Blues (261 songs)"
   ]
  },
  {
   "cell_type": "code",
   "execution_count": 10,
   "metadata": {
    "scrolled": true
   },
   "outputs": [
    {
     "name": "stderr",
     "output_type": "stream",
     "text": [
      "100%|██████████| 414/414 [02:41<00:00,  2.92it/s]"
     ]
    },
    {
     "name": "stdout",
     "output_type": "stream",
     "text": [
      "found :  261 , (63.04347826086956%) for genre jump blues\n"
     ]
    },
    {
     "name": "stderr",
     "output_type": "stream",
     "text": [
      "\n"
     ]
    }
   ],
   "source": [
    "final_json.extend(get_rateYourMusic_songs(\"jump-blues\", [\"data/jump_blues_rnb/jump_blues_\" + str(c) + \".html\" for c in range(1, 12) ]))"
   ]
  },
  {
   "cell_type": "markdown",
   "metadata": {},
   "source": [
    "# Download blue-eyed soul (275 songs)"
   ]
  },
  {
   "cell_type": "code",
   "execution_count": 12,
   "metadata": {},
   "outputs": [
    {
     "name": "stderr",
     "output_type": "stream",
     "text": [
      "100%|██████████| 386/386 [02:30<00:00,  2.45it/s]"
     ]
    },
    {
     "name": "stdout",
     "output_type": "stream",
     "text": [
      "found :  275 , (71.24352331606218%) for genre blue-eyed soul\n"
     ]
    },
    {
     "name": "stderr",
     "output_type": "stream",
     "text": [
      "\n"
     ]
    }
   ],
   "source": [
    "final_json.extend(get_rateYourMusic_songs(\"blue-eyed-soul\", [\"data/blue_eyed_soul/blue_eyed_soul_\" + str(c) + \".html\" for c in range(1, 12) ]))"
   ]
  },
  {
   "cell_type": "code",
   "execution_count": 13,
   "metadata": {},
   "outputs": [],
   "source": [
    "#Dump everything into the data\n",
    "json.dump(final_json, open(\"rnb_data.json\", 'w'))"
   ]
  },
  {
   "cell_type": "markdown",
   "metadata": {},
   "source": [
    "## Bar plot of nb of songs per years per genre"
   ]
  },
  {
   "cell_type": "code",
   "execution_count": 44,
   "metadata": {},
   "outputs": [
    {
     "data": {
      "text/plain": [
       "<matplotlib.axes._subplots.AxesSubplot at 0x7f31ed445eb8>"
      ]
     },
     "execution_count": 44,
     "metadata": {},
     "output_type": "execute_result"
    },
    {
     "data": {
      "image/png": "[encoded data removed]",
      "text/plain": [
       "<Figure size 1440x720 with 1 Axes>"
      ]
     },
     "metadata": {
      "needs_background": "light"
     },
     "output_type": "display_data"
    }
   ],
   "source": [
    "plt.figure(figsize=(20,10))\n",
    "\n",
    "to_plot = np.array([[d['year'][:3], d['genre']] for d in final_json if len(d['year']) == 4])\n",
    "genres = to_plot[:,1]\n",
    "years = to_plot[:,0]\n",
    "years\n",
    "\n",
    "pd.Series(years).value_counts().sort_index().plot(kind='bar')"
   ]
  }
 ],
 "metadata": {
  "kernelspec": {
   "display_name": "Python 3",
   "language": "python",
   "name": "python3"
  },
  "language_info": {
   "codemirror_mode": {
    "name": "ipython",
    "version": 3
   },
   "file_extension": ".py",
   "mimetype": "text/x-python",
   "name": "python",
   "nbconvert_exporter": "python",
   "pygments_lexer": "ipython3",
   "version": "3.7.0"
  }
 },
 "nbformat": 4,
 "nbformat_minor": 2
}
