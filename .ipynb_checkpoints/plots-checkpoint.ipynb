{
 "cells": [
  {
   "cell_type": "code",
   "execution_count": 1,
   "metadata": {},
   "outputs": [],
   "source": [
    "import plotly.plotly as py\n",
    "import plotly\n",
    "import plotly.graph_objs as go\n",
    "import pandas as pd\n",
    "from matplotlib.colors import ListedColormap\n",
    "import json\n",
    "import seaborn as sns\n",
    "import numpy as np\n",
    "\n",
    "plotly.tools.set_credentials_file(username='luke_martin', api_key='dwE475ETUXR0Yra829jp')"
   ]
  },
  {
   "cell_type": "markdown",
   "metadata": {},
   "source": [
    "### Load data"
   ]
  },
  {
   "cell_type": "code",
   "execution_count": 2,
   "metadata": {},
   "outputs": [],
   "source": [
    "data = json.load(open(\"rnb_data.json\"))\n",
    "\n",
    "features = ['danceability',          \\\n",
    "                'energy',            \\\n",
    "                'speechiness',       \\\n",
    "                'acousticness',      \\\n",
    "                'tempo',             \\\n",
    "                'instrumentalness',  \\\n",
    "                'liveness',          \\\n",
    "                'valence']\n",
    "all_genres = ['contemporary-rnb', 'british-rnb', 'alternative-rnb', 'new-jack-swing-rnb', 'new-orleans-rnb', 'jump-blues', \n",
    "             'blue-eyed-soul', 'early-rnb', 'motown-rnb']"
   ]
  },
  {
   "cell_type": "markdown",
   "metadata": {},
   "source": [
    "### Comparative bar plots"
   ]
  },
  {
   "cell_type": "code",
   "execution_count": 3,
   "metadata": {},
   "outputs": [],
   "source": [
    "def compare_genre_bars(genres) :\n",
    "\n",
    "    genred_data = [[d for d in data if d['genre'] == genre] for genre in genres]\n",
    "    print(list(zip(genres, [len(c) for c in genred_data])))\n",
    "    traces = []\n",
    "    for e, g in enumerate(genres) :\n",
    "        \n",
    "        scores = []\n",
    "        for f in features :\n",
    "            if f == 'tempo' :\n",
    "                scores.append(np.mean(np.array([d[f] for d in genred_data[e]])))\n",
    "            else :\n",
    "                scores.append(np.mean(np.array([d[f]*100 for d in genred_data[e]])))\n",
    "            \n",
    "        traces.append(go.Bar(x=features, y=scores, name=g))\n",
    "        \n",
    "    title = 'Features of ' + genres[0].replace('-', ' ') + ' and ' + genres[1].replace('-', ' ')\n",
    "    layout = go.Layout(barmode='group', title=title)\n",
    "    fig = go.Figure(data=traces, layout=layout)\n",
    "    py.iplot(fig, sharing='public', filename=title)"
   ]
  },
  {
   "cell_type": "code",
   "execution_count": 4,
   "metadata": {},
   "outputs": [
    {
     "name": "stdout",
     "output_type": "stream",
     "text": [
      "[('early-rnb', 198), ('new-orleans-rnb', 247)]\n"
     ]
    },
    {
     "name": "stderr",
     "output_type": "stream",
     "text": [
      "/home/luke/anaconda3/lib/python3.6/site-packages/IPython/core/display.py:689: UserWarning:\n",
      "\n",
      "Consider using IPython.display.IFrame instead\n",
      "\n"
     ]
    },
    {
     "name": "stdout",
     "output_type": "stream",
     "text": [
      "[('jump-blues', 159), ('new-orleans-rnb', 247)]\n",
      "[('early-rnb', 198), ('new-jack-swing-rnb', 146)]\n",
      "[('contemporary-rnb', 789), ('british-rnb', 148)]\n",
      "[('contemporary-rnb', 789), ('alternative-rnb', 640)]\n"
     ]
    }
   ],
   "source": [
    "compare_genre_bars(['early-rnb', 'new-orleans-rnb'])\n",
    "compare_genre_bars(['jump-blues', 'new-orleans-rnb'])\n",
    "compare_genre_bars(['early-rnb', 'new-jack-swing-rnb'])\n",
    "compare_genre_bars(['contemporary-rnb', 'british-rnb'])\n",
    "compare_genre_bars(['contemporary-rnb', 'alternative-rnb'])\n"
   ]
  },
  {
   "cell_type": "markdown",
   "metadata": {},
   "source": [
    "### Features study"
   ]
  },
  {
   "cell_type": "code",
   "execution_count": 5,
   "metadata": {},
   "outputs": [],
   "source": [
    "def tuple_to_rgb(color_tuple) :  \n",
    "    \n",
    "    def change_col_fmt(x) :\n",
    "        return str(int(255*x))\n",
    "    \n",
    "    return \"rgb(\"+ ','.join([change_col_fmt(color_tuple[c]) for c in [0, 1, 2]]) + ')'\n",
    "\n",
    "\n",
    "def feature_study(feature) :\n",
    "    \n",
    "    ys = []\n",
    "    for g in all_genres :\n",
    "        ys.append(np.mean(np.array([d[feature] for d in data if d['genre'] == g])))\n",
    "      \n",
    "    ys = np.array(ys)\n",
    "    sort_indices = np.argsort(ys)\n",
    "    ys = ys[sort_indices]\n",
    "    sorted_genres = np.array(all_genres.copy())[sort_indices]\n",
    "\n",
    "    \n",
    "    cmap = sns.cubehelix_palette(len(all_genres))\n",
    "    trace = go.Bar(x=sorted_genres, \n",
    "                   y=ys, \n",
    "                   marker=dict(color=[tuple_to_rgb(c) for c in sns.color_palette(\"Set2\")]))\n",
    "    title = 'Mean of ' + feature + ' value in songs for main RnB genres'\n",
    "    layout = go.Layout(title=title, yaxis=dict(title=feature))\n",
    "    fig = go.Figure(data=[trace], layout=layout)\n",
    "    py.iplot(fig, sharing='public', filename=title)"
   ]
  },
  {
   "cell_type": "code",
   "execution_count": 6,
   "metadata": {},
   "outputs": [],
   "source": [
    "for f in features :\n",
    "    feature_study(f)"
   ]
  },
  {
   "cell_type": "markdown",
   "metadata": {},
   "source": [
    "### Album comparisons"
   ]
  },
  {
   "cell_type": "code",
   "execution_count": 3,
   "metadata": {},
   "outputs": [],
   "source": [
    "classic_cont  = json.load(open(\"classic_album_cont.json\"))\n",
    "classic_no    = json.load(open(\"classic_album_no.json\"))\n",
    "classic_early = json.load(open(\"classic_album_early.json\"))\n",
    "classic_brit  = json.load(open(\"classic_album_british.json\"))"
   ]
  },
  {
   "cell_type": "code",
   "execution_count": 6,
   "metadata": {},
   "outputs": [],
   "source": [
    "def compare_album_bars(albums_dicts) :\n",
    "\n",
    "    traces = []\n",
    "    for e, g in enumerate(albums_dicts) :        \n",
    "        scores = []\n",
    "        for f in features :\n",
    "            if f == 'tempo' :\n",
    "                scores.append(g[f])\n",
    "            else :\n",
    "                scores.append(g[f]*100)\n",
    "            \n",
    "        traces.append(go.Bar(x=features, y=scores, name=g['album']))\n",
    "        \n",
    "    title = 'Features of ' + albums_dicts[0]['album'].replace('-', ' ') + ' and ' + albums_dicts[1]['album'].replace('-', ' ')\n",
    "    layout = go.Layout(barmode='group', title=title)\n",
    "    fig = go.Figure(data=traces, layout=layout)\n",
    "    py.iplot(fig, sharing='public', filename=title)"
   ]
  },
  {
   "cell_type": "code",
   "execution_count": 7,
   "metadata": {},
   "outputs": [
    {
     "name": "stderr",
     "output_type": "stream",
     "text": [
      "/home/luke/anaconda3/lib/python3.6/site-packages/IPython/core/display.py:689: UserWarning:\n",
      "\n",
      "Consider using IPython.display.IFrame instead\n",
      "\n"
     ]
    }
   ],
   "source": [
    "compare_album_bars([classic_cont, classic_early, classic_no, classic_brit])"
   ]
  }
 ],
 "metadata": {
  "kernelspec": {
   "display_name": "Python 3",
   "language": "python",
   "name": "python3"
  },
  "language_info": {
   "codemirror_mode": {
    "name": "ipython",
    "version": 3
   },
   "file_extension": ".py",
   "mimetype": "text/x-python",
   "name": "python",
   "nbconvert_exporter": "python",
   "pygments_lexer": "ipython3",
   "version": "3.6.7"
  }
 },
 "nbformat": 4,
 "nbformat_minor": 2
}
