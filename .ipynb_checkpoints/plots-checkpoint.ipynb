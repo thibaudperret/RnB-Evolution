{
 "cells": [
  {
   "cell_type": "code",
   "execution_count": 45,
   "metadata": {},
   "outputs": [],
   "source": [
    "import plotly.plotly as py\n",
    "import plotly.graph_objs as go\n",
    "import pandas as pd\n",
    "import json\n",
    "import numpy as np\n",
    "\n",
    "plotly.tools.set_credentials_file(username='luke_martin', api_key='dwE475ETUXR0Yra829jp')"
   ]
  },
  {
   "cell_type": "markdown",
   "metadata": {},
   "source": [
    "### Load data"
   ]
  },
  {
   "cell_type": "code",
   "execution_count": 5,
   "metadata": {},
   "outputs": [],
   "source": [
    "data = json.load(open(\"rnb_data.json\"))"
   ]
  },
  {
   "cell_type": "code",
   "execution_count": null,
   "metadata": {},
   "outputs": [],
   "source": [
    "trace1 = go.Bar(\n",
    "    x=['Trial 1', 'Trial 2', 'Trial 3'],\n",
    "    y=[3, 6, 4],\n",
    "    name='Control',\n",
    ")\n",
    "trace2 = go.Bar(\n",
    "    x=['Trial 1', 'Trial 2', 'Trial 3'],\n",
    "    y=[4, 7, 3],\n",
    "    name='Experimental',\n",
    ")\n",
    "data = [trace1, trace2]\n",
    "layout = go.Layout(\n",
    "    barmode='group'\n",
    ")\n",
    "fig = go.Figure(data=data, layout=layout)\n",
    "py.iplot(fig, filename='error-bar-bar')"
   ]
  },
  {
   "cell_type": "code",
   "execution_count": null,
   "metadata": {},
   "outputs": [],
   "source": [
    "def compare_genre_bars(genres) :\n",
    "    features = ['danceability',          \\\n",
    "                    'energy',            \\\n",
    "                    'loudness',          \\\n",
    "                    'speechiness',       \\\n",
    "                    'acousticness',      \\\n",
    "                    'instrumentalness',  \\\n",
    "                    'liveness',          \\\n",
    "                    'valence']\n",
    "    genred_data = [[d for d in data if d['genre'] == genre] for genre in genres]\n",
    "    \n",
    "    traces = []\n",
    "    for e, g in enumerate(genres) :\n",
    "        \n",
    "        scores = []\n",
    "        for f in features :\n",
    "            scores.append(np.mean(np.array([d[f] for d in genred_data[e]])))\n",
    "            \n",
    "        traces.append(go.Bar(x=features, y=scores, name=g))\n",
    "        \n",
    "    layout = go.Layout(barmode='group', title='Features of ' + \",\".join(genres)[:-1] + \"and \" + genres[-1])\n",
    "    fig = go.Figure(data=traces, layout=layout)\n",
    "    py.iplot(fig, sharing='public')"
   ]
  },
  {
   "cell_type": "code",
   "execution_count": 56,
   "metadata": {},
   "outputs": [],
   "source": [
    "def compute_plot_data(years, data, feature) :\n",
    "    \n",
    "    last_value = 0\n",
    "    ys = []\n",
    "    for year in years :\n",
    "        annual_data = np.array([c[feature] for c in data if (int(c['year'][:4]) == year)])\n",
    "        if len(annual_data) == 0:\n",
    "            ys.append(last_value)\n",
    "        else :\n",
    "            year_value = np.mean(annual_data)\n",
    "            ys.append(year_value)\n",
    "            last_value = year_value\n",
    "            \n",
    "    return ys\n",
    "        \n",
    "\n",
    "def compare_genres(genres, feature) :\n",
    "    \n",
    "    #filter data by genre\n",
    "    genred_data = [[d for d in data if d['genre'] == genre] for genre in genres]\n",
    "    genred_years = [np.array([int(c['year'][:4]) for c in gd]) for gd in genred_data]\n",
    "    \n",
    "    #compute year ranges\n",
    "    overall_min = min([min(c) for c in genred_years])\n",
    "    overall_max = max([max(c) for c in genred_years])    \n",
    "    years_range = list(range(overall_min, overall_max + 1))\n",
    "        \n",
    "    #compute scatterplots\n",
    "    scats = []\n",
    "    for e, g in enumerate(genred_data) :\n",
    "        g_y = compute_plot_data(years_range, g, feature)\n",
    "        scats.append(go.Scatter(x=years_range, y=g_y, name=genres[e]))\n",
    "        \n",
    "    #define layout\n",
    "    layout = go.Layout(title= feature+' of RnB genres over years', xaxis=dict(title='year'),yaxis=dict(title=feature))\n",
    "\n",
    "    #plot the figure\n",
    "    fig = go.Figure(data=scats, layout=layout)\n",
    "    py.iplot(fig, sharing='public')\n",
    "    \n",
    "    \n",
    "    "
   ]
  },
  {
   "cell_type": "code",
   "execution_count": 57,
   "metadata": {},
   "outputs": [
    {
     "name": "stderr",
     "output_type": "stream",
     "text": [
      "/home/luke/anaconda3/lib/python3.6/site-packages/IPython/core/display.py:689: UserWarning:\n",
      "\n",
      "Consider using IPython.display.IFrame instead\n",
      "\n"
     ]
    }
   ],
   "source": [
    "compare_genres(['blue-eyed-soul', 'alternative-rnb'], 'instrumentalness')"
   ]
  },
  {
   "cell_type": "code",
   "execution_count": 55,
   "metadata": {},
   "outputs": [
    {
     "name": "stderr",
     "output_type": "stream",
     "text": [
      "/home/luke/anaconda3/lib/python3.6/site-packages/IPython/core/display.py:689: UserWarning:\n",
      "\n",
      "Consider using IPython.display.IFrame instead\n",
      "\n"
     ]
    },
    {
     "data": {
      "text/html": [
       "<iframe id=\"igraph\" scrolling=\"no\" style=\"border:none;\" seamless=\"seamless\" src=\"https://plot.ly/~luke_martin/14.embed\" height=\"525px\" width=\"100%\"></iframe>"
      ],
      "text/plain": [
       "<plotly.tools.PlotlyDisplay object>"
      ]
     },
     "execution_count": 55,
     "metadata": {},
     "output_type": "execute_result"
    }
   ],
   "source": [
    "feature = 'instrumentalness'\n",
    "genre = \"blue-eyed-soul\"\n",
    "\n",
    "genred_data = [d for d in data if d['genre'] == genre]\n",
    "genred_years = np.array([int(c['year'][:4]) for c in genred_data])\n",
    "\n",
    "min_year = min(genred_years)\n",
    "max_year = max(genred_years)\n",
    "years_range = list(range(min_year, max_year + 1))\n",
    "\n",
    "last_value = 0\n",
    "ys = []\n",
    "\n",
    "for year in years_range :\n",
    "    annual_data = np.array([c[feature] for c in genred_data if (int(c['year'][:4]) == year)])\n",
    "    if len(annual_data) == 0:\n",
    "        ys.append(last_value)\n",
    "    else :\n",
    "        year_value = np.mean(annual_data)\n",
    "        ys.append(year_value)\n",
    "        last_value = year_value\n",
    "\n",
    "\n",
    "feat_scat = go.Scatter(x=years_range, y=ys)\n",
    "layout = go.Layout(title= feature+' of '+genre+' over years', xaxis=dict(title='year'),yaxis=dict(title=feature))\n",
    "fig = go.Figure(data=[feat_scat], layout=layout)\n",
    "py.iplot(fig, sharing='public')"
   ]
  },
  {
   "cell_type": "code",
   "execution_count": 54,
   "metadata": {},
   "outputs": [
    {
     "data": {
      "text/plain": [
       "[(0.0, 1900),\n",
       " (0.0, 1901),\n",
       " (0.0, 1902),\n",
       " (0.0, 1903),\n",
       " (0.0, 1904),\n",
       " (0.0, 1905),\n",
       " (0.0, 1906),\n",
       " (0.0, 1907),\n",
       " (0.0, 1908),\n",
       " (0.0, 1909),\n",
       " (0.0, 1910),\n",
       " (0.0, 1911),\n",
       " (0.0, 1912),\n",
       " (0.0, 1913),\n",
       " (0.0, 1914),\n",
       " (0.0, 1915),\n",
       " (0.0, 1916),\n",
       " (0.0, 1917),\n",
       " (0.0, 1918),\n",
       " (0.0, 1919),\n",
       " (0.0, 1920),\n",
       " (0.0, 1921),\n",
       " (0.0, 1922),\n",
       " (0.0, 1923),\n",
       " (0.0, 1924),\n",
       " (0.0, 1925),\n",
       " (0.0, 1926),\n",
       " (0.0, 1927),\n",
       " (0.0, 1928),\n",
       " (0.0, 1929),\n",
       " (0.0, 1930),\n",
       " (0.0, 1931),\n",
       " (0.0, 1932),\n",
       " (0.0, 1933),\n",
       " (0.0, 1934),\n",
       " (0.0, 1935),\n",
       " (0.0, 1936),\n",
       " (0.0, 1937),\n",
       " (0.0, 1938),\n",
       " (0.0, 1939),\n",
       " (0.0, 1940),\n",
       " (0.0, 1941),\n",
       " (0.0, 1942),\n",
       " (0.0, 1943),\n",
       " (0.0, 1944),\n",
       " (0.0, 1945),\n",
       " (0.0, 1946),\n",
       " (0.0, 1947),\n",
       " (0.0, 1948),\n",
       " (0.0, 1949),\n",
       " (0.0, 1950),\n",
       " (0.0, 1951),\n",
       " (0.0, 1952),\n",
       " (0.0, 1953),\n",
       " (0.0, 1954),\n",
       " (0.0, 1955),\n",
       " (0.0, 1956),\n",
       " (0.00104, 1957),\n",
       " (0.00104, 1958),\n",
       " (0.00104, 1959),\n",
       " (0.00104, 1960),\n",
       " (0.00104, 1961),\n",
       " (0.00104, 1962),\n",
       " (6.03e-06, 1963),\n",
       " (0.0, 1964),\n",
       " (0.0022904307692307693, 1965),\n",
       " (0.005034, 1966),\n",
       " (0.00014310526315789473, 1967),\n",
       " (2.446e-05, 1968),\n",
       " (0.03526366095238095, 1969),\n",
       " (0.008635392222222224, 1970),\n",
       " (0.0032766909090909085, 1971),\n",
       " (0.001316532857142857, 1972),\n",
       " (0.0026096012500000003, 1973),\n",
       " (0.022217482, 1974),\n",
       " (0.00805819111111111, 1975),\n",
       " (0.12619383333333334, 1976),\n",
       " (0.0017013925, 1977),\n",
       " (0.019155193333333334, 1978),\n",
       " (4.245e-06, 1979),\n",
       " (0.338587, 1980),\n",
       " (0.044596000000000004, 1981),\n",
       " (0.005615342857142857, 1982),\n",
       " (0.1867623, 1983),\n",
       " (0.000266, 1984),\n",
       " (0.009697333333333334, 1985),\n",
       " (0.083250062, 1986),\n",
       " (0.009137435714285715, 1987),\n",
       " (0.11554075571428571, 1988),\n",
       " (0.21027152076923075, 1989),\n",
       " (8.989999999999999e-06, 1990),\n",
       " (0.001564893125, 1991),\n",
       " (5.2346666666666665e-05, 1992),\n",
       " (0.0003136666666666667, 1993),\n",
       " (0.011978250000000001, 1994),\n",
       " (0.027589219999999998, 1995),\n",
       " (0.000296, 1996),\n",
       " (0.014991665, 1997),\n",
       " (0.2128603425, 1998),\n",
       " (0.0001239525, 1999),\n",
       " (2.0714285714285715e-05, 2000),\n",
       " (0.0, 2001),\n",
       " (0.05021177333333333, 2002),\n",
       " (0.013064426999999998, 2003),\n",
       " (0.04039744833333333, 2004),\n",
       " (0.003149103333333333, 2005),\n",
       " (0.00045892105263157894, 2006),\n",
       " (0.10406833789473685, 2007),\n",
       " (0.00779025382352941, 2008),\n",
       " (0.04166237363636364, 2009),\n",
       " (0.08546974666666667, 2010),\n",
       " (0.06776734652173913, 2011),\n",
       " (0.011308025333333334, 2012),\n",
       " (0.030451553478260868, 2013),\n",
       " (0.02590420733333333, 2014),\n",
       " (0.04691253303030304, 2015),\n",
       " (0.0173468575, 2016),\n",
       " (0.06181896428571428, 2017),\n",
       " (0.02733796181818182, 2018)]"
      ]
     },
     "execution_count": 54,
     "metadata": {},
     "output_type": "execute_result"
    }
   ],
   "source": [
    "list(zip(ys, years_range))"
   ]
  }
 ],
 "metadata": {
  "kernelspec": {
   "display_name": "Python 3",
   "language": "python",
   "name": "python3"
  },
  "language_info": {
   "codemirror_mode": {
    "name": "ipython",
    "version": 3
   },
   "file_extension": ".py",
   "mimetype": "text/x-python",
   "name": "python",
   "nbconvert_exporter": "python",
   "pygments_lexer": "ipython3",
   "version": "3.6.7"
  }
 },
 "nbformat": 4,
 "nbformat_minor": 2
}
