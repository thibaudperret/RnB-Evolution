{
 "cells": [
  {
   "cell_type": "code",
   "execution_count": 17,
   "metadata": {},
   "outputs": [],
   "source": [
    "import plotly.plotly as py\n",
    "import plotly\n",
    "import plotly.graph_objs as go\n",
    "import pandas as pd\n",
    "from matplotlib.colors import ListedColormap\n",
    "import json\n",
    "import seaborn as sns\n",
    "import numpy as np\n",
    "\n",
    "plotly.tools.set_credentials_file(username='luke_martin', api_key='dwE475ETUXR0Yra829jp')"
   ]
  },
  {
   "cell_type": "markdown",
   "metadata": {},
   "source": [
    "### Load data"
   ]
  },
  {
   "cell_type": "code",
   "execution_count": 18,
   "metadata": {},
   "outputs": [],
   "source": [
    "data = json.load(open(\"rnb_data.json\"))\n",
    "\n",
    "features = ['danceability',          \\\n",
    "                'energy',            \\\n",
    "                'speechiness',       \\\n",
    "                'acousticness',      \\\n",
    "                'tempo',             \\\n",
    "                'instrumentalness',  \\\n",
    "                'liveness',          \\\n",
    "                'valence']\n",
    "all_genres = ['contemporary-rnb', 'british-rnb', 'alternative-rnb', 'new-jack-swing-rnb', 'new-orleans-rnb', 'jump-blues', \n",
    "             'blue-eyed-soul', 'early-rnb', 'motown-rnb']"
   ]
  },
  {
   "cell_type": "markdown",
   "metadata": {},
   "source": [
    "### Filter json data"
   ]
  },
  {
   "cell_type": "code",
   "execution_count": 21,
   "metadata": {},
   "outputs": [
    {
     "name": "stdout",
     "output_type": "stream",
     "text": [
      "{'1972', '1955', '1966', '1990', '1970', '1976', '1977', '2017', '2007', '1982', '2018', '1979', '2014', '1997', '2011', '2009', '2000', '1960', '2006', '1975', '1965', '1983', '1985', '1971', '1993', '1973', '1986', '2016', '1978', '2003', '1958', '1987', '1974', '1959', '2012', '1964', '1956', '2013', '1962', '1957', '1998', '1996', '1969', '2015', '1980', '1981', '1999', '2008', '1991', '1984', '1963', '1961', '2004', '2001', '2002', '1900', '1968', '1992', '2010', '1989', '2005', '1994', '1988', '1967', '1995'}\n"
     ]
    }
   ],
   "source": [
    "data_years = set([d['year'] for d in data])\n",
    "print(data_years)\n",
    "\n",
    "new_data = []\n",
    "len_subs = []\n",
    "\n",
    "for y in data_years :\n",
    "    \n",
    "    subdata = [d for d in data if d['year']==y]\n",
    "    len_subs.append(len(subdata))\n",
    "    albums = set([d['album'] for d in subdata])\n",
    "    nb_album = len(albums)\n",
    "    to_retrieve = 800\n",
    "    \n",
    "    #too many data\n",
    "    if (len(subdata) > 800) :\n",
    "        \n",
    "        filtered_data = []\n",
    "        \n",
    "        for a in albums :\n",
    "            if nb_album >= 1 :\n",
    "                nb_per_album = int(to_retrieve/nb_album)\n",
    "                album_data = [d for d in subdata if d['album']==a]\n",
    "                to_add = album_data[:nb_per_album]\n",
    "                filtered_data.extend(to_add)\n",
    "                nb_album -=1\n",
    "                to_retrieve -= len(to_add)\n",
    "            \n",
    "        new_data.extend(filtered_data)\n",
    "    \n",
    "    else :\n",
    "        new_data.extend(subdata)\n",
    "            \n",
    "        \n",
    "        \n",
    "json.dump(new_data, open(\"filtered_data.json\", 'w'))"
   ]
  },
  {
   "cell_type": "code",
   "execution_count": 22,
   "metadata": {},
   "outputs": [
    {
     "data": {
      "text/plain": [
       "26436"
      ]
     },
     "execution_count": 22,
     "metadata": {},
     "output_type": "execute_result"
    }
   ],
   "source": [
    "len(new_data)"
   ]
  },
  {
   "cell_type": "code",
   "execution_count": 23,
   "metadata": {},
   "outputs": [
    {
     "name": "stdout",
     "output_type": "stream",
     "text": [
      "1972 : 318 , was 318 before\n",
      "1955 : 20 , was 20 before\n",
      "1966 : 337 , was 337 before\n",
      "1990 : 517 , was 517 before\n",
      "1970 : 384 , was 384 before\n",
      "1976 : 121 , was 121 before\n",
      "1977 : 71 , was 71 before\n",
      "2017 : 737 , was 1529 before\n",
      "2007 : 771 , was 1252 before\n",
      "1982 : 224 , was 224 before\n",
      "2018 : 686 , was 1089 before\n",
      "1979 : 106 , was 106 before\n",
      "2014 : 791 , was 2404 before\n",
      "1997 : 483 , was 483 before\n",
      "2011 : 766 , was 1229 before\n",
      "2009 : 782 , was 1061 before\n",
      "2000 : 706 , was 706 before\n",
      "1960 : 86 , was 86 before\n",
      "2006 : 742 , was 988 before\n",
      "1975 : 204 , was 204 before\n",
      "1965 : 636 , was 636 before\n",
      "1983 : 199 , was 199 before\n",
      "1985 : 196 , was 196 before\n",
      "1971 : 246 , was 246 before\n",
      "1993 : 388 , was 388 before\n",
      "1973 : 182 , was 182 before\n",
      "1986 : 169 , was 169 before\n",
      "2016 : 797 , was 1693 before\n",
      "1978 : 146 , was 146 before\n",
      "2003 : 719 , was 719 before\n",
      "1958 : 115 , was 115 before\n",
      "1987 : 361 , was 361 before\n",
      "1974 : 228 , was 228 before\n",
      "1959 : 92 , was 92 before\n",
      "2012 : 768 , was 1578 before\n",
      "1964 : 314 , was 314 before\n",
      "1956 : 80 , was 80 before\n",
      "2013 : 764 , was 1957 before\n",
      "1962 : 161 , was 161 before\n",
      "1957 : 32 , was 32 before\n",
      "1998 : 479 , was 479 before\n",
      "1996 : 329 , was 329 before\n",
      "1969 : 452 , was 452 before\n",
      "2015 : 767 , was 1714 before\n",
      "1980 : 211 , was 211 before\n",
      "1981 : 214 , was 214 before\n",
      "1999 : 456 , was 456 before\n",
      "2008 : 791 , was 1455 before\n",
      "1991 : 787 , was 787 before\n",
      "1984 : 116 , was 116 before\n",
      "1963 : 228 , was 228 before\n",
      "1961 : 129 , was 129 before\n",
      "2004 : 597 , was 597 before\n",
      "2001 : 558 , was 558 before\n",
      "2002 : 438 , was 438 before\n",
      "1900 : 33 , was 33 before\n",
      "1968 : 250 , was 250 before\n",
      "1992 : 626 , was 626 before\n",
      "2010 : 732 , was 1030 before\n",
      "1989 : 508 , was 508 before\n",
      "2005 : 800 , was 1378 before\n",
      "1994 : 400 , was 400 before\n",
      "1988 : 349 , was 349 before\n",
      "1967 : 372 , was 372 before\n",
      "1995 : 369 , was 369 before\n"
     ]
    }
   ],
   "source": [
    "for y, l in zip(data_years, len_subs) :\n",
    "    print(y, \":\",len([d for d in new_data if d['year']==y]), \", was\", l, \"before\")"
   ]
  },
  {
   "cell_type": "markdown",
   "metadata": {},
   "source": [
    "### Comparative bar plots"
   ]
  },
  {
   "cell_type": "code",
   "execution_count": 3,
   "metadata": {},
   "outputs": [],
   "source": [
    "def compare_genre_bars(genres) :\n",
    "\n",
    "    genred_data = [[d for d in data if d['genre'] == genre] for genre in genres]\n",
    "    print(list(zip(genres, [len(c) for c in genred_data])))\n",
    "    traces = []\n",
    "    for e, g in enumerate(genres) :\n",
    "        \n",
    "        scores = []\n",
    "        for f in features :\n",
    "            if f == 'tempo' :\n",
    "                scores.append(np.mean(np.array([d[f] for d in genred_data[e]])))\n",
    "            else :\n",
    "                scores.append(np.mean(np.array([d[f]*100 for d in genred_data[e]])))\n",
    "            \n",
    "        traces.append(go.Bar(x=features, y=scores, name=g))\n",
    "        \n",
    "    title = 'Features of ' + genres[0].replace('-', ' ') + ' and ' + genres[1].replace('-', ' ')\n",
    "    layout = go.Layout(barmode='group', title=title)\n",
    "    fig = go.Figure(data=traces, layout=layout)\n",
    "    py.iplot(fig, sharing='public', filename=title)"
   ]
  },
  {
   "cell_type": "code",
   "execution_count": 4,
   "metadata": {},
   "outputs": [
    {
     "name": "stdout",
     "output_type": "stream",
     "text": [
      "[('early-rnb', 3327), ('new-orleans-rnb', 3014)]\n"
     ]
    },
    {
     "name": "stderr",
     "output_type": "stream",
     "text": [
      "/home/luke/anaconda3/lib/python3.6/site-packages/IPython/core/display.py:689: UserWarning:\n",
      "\n",
      "Consider using IPython.display.IFrame instead\n",
      "\n"
     ]
    },
    {
     "name": "stdout",
     "output_type": "stream",
     "text": [
      "[('jump-blues', 2094), ('new-orleans-rnb', 3014)]\n",
      "[('early-rnb', 3327), ('new-jack-swing-rnb', 1764)]\n",
      "[('contemporary-rnb', 9723), ('british-rnb', 1640)]\n",
      "[('contemporary-rnb', 9723), ('alternative-rnb', 4353)]\n"
     ]
    }
   ],
   "source": [
    "compare_genre_bars(['early-rnb', 'new-orleans-rnb'])\n",
    "compare_genre_bars(['jump-blues', 'new-orleans-rnb'])\n",
    "compare_genre_bars(['early-rnb', 'new-jack-swing-rnb'])\n",
    "compare_genre_bars(['contemporary-rnb', 'british-rnb'])\n",
    "compare_genre_bars(['contemporary-rnb', 'alternative-rnb'])\n"
   ]
  },
  {
   "cell_type": "markdown",
   "metadata": {},
   "source": [
    "### Features study"
   ]
  },
  {
   "cell_type": "code",
   "execution_count": 4,
   "metadata": {},
   "outputs": [],
   "source": [
    "def tuple_to_rgb(color_tuple) :  \n",
    "    \n",
    "    def change_col_fmt(x) :\n",
    "        return str(int(255*x))\n",
    "    \n",
    "    return \"rgb(\"+ ','.join([change_col_fmt(color_tuple[c]) for c in [0, 1, 2]]) + ')'\n",
    "\n",
    "\n",
    "def feature_study(feature) :\n",
    "    \n",
    "    ys = []\n",
    "    for g in all_genres :\n",
    "        ys.append(np.mean(np.array([d[feature] for d in data if d['genre'] == g])))\n",
    "      \n",
    "    ys = np.array(ys)\n",
    "    sort_indices = np.argsort(ys)\n",
    "    ys = ys[sort_indices]\n",
    "    sorted_genres = np.array(all_genres.copy())[sort_indices]\n",
    "\n",
    "    \n",
    "    cmap = sns.cubehelix_palette(len(all_genres))\n",
    "    trace = go.Bar(x=sorted_genres, \n",
    "                   y=ys, \n",
    "                   marker=dict(color=[tuple_to_rgb(c) for c in sns.color_palette(\"Set2\")]))\n",
    "    title = 'Mean of ' + feature + ' value in songs for main RnB genres'\n",
    "    layout = go.Layout(title=title, yaxis=dict(title=feature))\n",
    "    fig = go.Figure(data=[trace], layout=layout)\n",
    "    py.iplot(fig, sharing='public', filename=title)"
   ]
  },
  {
   "cell_type": "code",
   "execution_count": 6,
   "metadata": {},
   "outputs": [],
   "source": [
    "for f in features :\n",
    "    feature_study(f)"
   ]
  },
  {
   "cell_type": "markdown",
   "metadata": {},
   "source": [
    "### Album comparisons"
   ]
  },
  {
   "cell_type": "code",
   "execution_count": 5,
   "metadata": {},
   "outputs": [
    {
     "data": {
      "text/plain": [
       "'\\nclassic_cont  = json.load(open(\"classic_album_cont.json\"))\\nclassic_no    = json.load(open(\"classic_album_no.json\"))\\nclassic_early = json.load(open(\"classic_album_early.json\"))\\nclassic_brit  = json.load(open(\"classic_album_british.json\"))\\n'"
      ]
     },
     "execution_count": 5,
     "metadata": {},
     "output_type": "execute_result"
    }
   ],
   "source": [
    "alb_cont    = [json.load(open(\"data/alb_compare/alb_cont\"+str(i)+\".json\")) for i in range(1, 4)]\n",
    "alb_alt     = [json.load(open(\"data/alb_compare/alb_alt\"+str(i)+\".json\")) for i in range(1, 4)]\n",
    "alb_bes     = [json.load(open(\"data/alb_compare/alb_bes\"+str(i)+\".json\")) for i in range(1, 4)]\n",
    "alb_british = [json.load(open(\"data/alb_compare/alb_british\"+str(i)+\".json\")) for i in range(1, 4)]\n",
    "alb_early   = [json.load(open(\"data/alb_compare/alb_early\"+str(i)+\".json\")) for i in range(1, 4)]\n",
    "alb_motown  = [json.load(open(\"data/alb_compare/alb_motown\"+str(i)+\".json\")) for i in range(1, 4)]\n",
    "alb_njs     = [json.load(open(\"data/alb_compare/alb_njs\"+str(i)+\".json\")) for i in range(1, 4)]\n",
    "alb_orl     = [json.load(open(\"data/alb_compare/alb_orl\"+str(i)+\".json\")) for i in range(1, 3)]\n",
    "alb_jump    = [json.load(open(\"data/alb_compare/alb_jump\"+str(i)+\".json\")) for i in range(1, 3)]\n",
    "\n",
    "\n",
    "\n",
    "\n",
    "\"\"\"\n",
    "classic_cont  = json.load(open(\"classic_album_cont.json\"))\n",
    "classic_no    = json.load(open(\"classic_album_no.json\"))\n",
    "classic_early = json.load(open(\"classic_album_early.json\"))\n",
    "classic_brit  = json.load(open(\"classic_album_british.json\"))\n",
    "\"\"\""
   ]
  },
  {
   "cell_type": "code",
   "execution_count": 6,
   "metadata": {},
   "outputs": [],
   "source": [
    "def compare_album_bars(albums_dicts, title=None) :\n",
    "\n",
    "    traces = []\n",
    "    for e, g in enumerate(albums_dicts) :        \n",
    "        scores = []\n",
    "        for f in features :\n",
    "            if f == 'tempo' :\n",
    "                scores.append(g[f])\n",
    "            else :\n",
    "                scores.append(g[f]*100)\n",
    "            \n",
    "        traces.append(go.Bar(x=features, y=scores, name=g['album']))\n",
    "        \n",
    "    if title is None :\n",
    "        title = 'Features of ' + albums_dicts[0]['album'].replace('-', ' ') + ' and ' + albums_dicts[1]['album'].replace('-', ' ')\n",
    "\n",
    "    layout = go.Layout(barmode='group', title=title)\n",
    "    fig = go.Figure(data=traces, layout=layout)\n",
    "    py.iplot(fig, sharing='public', filename=title)"
   ]
  },
  {
   "cell_type": "code",
   "execution_count": 14,
   "metadata": {},
   "outputs": [],
   "source": [
    "compare_album_bars(alb_motown, title=\"motown albums\")"
   ]
  },
  {
   "cell_type": "code",
   "execution_count": 7,
   "metadata": {},
   "outputs": [
    {
     "name": "stderr",
     "output_type": "stream",
     "text": [
      "/home/luke/anaconda3/lib/python3.6/site-packages/IPython/core/display.py:689: UserWarning:\n",
      "\n",
      "Consider using IPython.display.IFrame instead\n",
      "\n"
     ]
    }
   ],
   "source": [
    "compare_album_bars(alb_alt, title=\"alt_albums\")\n",
    "compare_album_bars(alb_bes, title=\"bes_albums\")\n",
    "compare_album_bars(alb_british, title=\"british_albums\")\n",
    "compare_album_bars(alb_early, title=\"early_albums\")\n",
    "compare_album_bars(alb_motown, title=\"motown_albums\")\n",
    "compare_album_bars(alb_njs, title=\"njs_albums\")\n",
    "compare_album_bars(alb_orl, title=\"orl_albums\")\n",
    "compare_album_bars(alb_jump, title=\"jump_albums\")"
   ]
  },
  {
   "cell_type": "code",
   "execution_count": null,
   "metadata": {},
   "outputs": [],
   "source": []
  }
 ],
 "metadata": {
  "kernelspec": {
   "display_name": "Python 3",
   "language": "python",
   "name": "python3"
  },
  "language_info": {
   "codemirror_mode": {
    "name": "ipython",
    "version": 3
   },
   "file_extension": ".py",
   "mimetype": "text/x-python",
   "name": "python",
   "nbconvert_exporter": "python",
   "pygments_lexer": "ipython3",
   "version": "3.6.7"
  }
 },
 "nbformat": 4,
 "nbformat_minor": 2
}
