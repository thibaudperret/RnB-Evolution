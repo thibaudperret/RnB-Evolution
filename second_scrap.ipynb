{
 "cells": [
  {
   "cell_type": "code",
   "execution_count": 13,
   "metadata": {},
   "outputs": [],
   "source": [
    "import requests\n",
    "import urllib.request\n",
    "from urllib.parse import quote\n",
    "from tqdm import tqdm\n",
    "import contextlib\n",
    "import tqdm\n",
    "import json\n",
    "from bs4 import BeautifulSoup as bs"
   ]
  },
  {
   "cell_type": "markdown",
   "metadata": {},
   "source": [
    "# AllMusic scrapping"
   ]
  },
  {
   "cell_type": "code",
   "execution_count": 26,
   "metadata": {},
   "outputs": [
    {
     "data": {
      "application/vnd.jupyter.widget-view+json": {
       "model_id": "ade7ac18e15d4f6fbfe003c3179fc3c4",
       "version_major": 2,
       "version_minor": 0
      },
      "text/plain": [
       "HBox(children=(IntProgress(value=0, max=2), HTML(value='')))"
      ]
     },
     "metadata": {},
     "output_type": "display_data"
    },
    {
     "name": "stdout",
     "output_type": "stream",
     "text": [
      "\n",
      "('B.B. King', 'Live at the Regal', '1965')\n",
      "('B.B. King', 'Ladies and Gentlemen, Mr. B.B. King', '2012')\n",
      "('Ray Charles', 'Genius: The Ultimate Collection', '2009')\n",
      "('Bo Diddley', 'Beach Party', '1963')\n",
      "('Stevie Wonder', 'The Definitive Collection', '2002')\n",
      "('Little Richard', \"Here's Little Richard\", '1957')\n",
      "('Bo Diddley', 'Have Guitar, Will Travel/In the Spotlight', '2011')\n",
      "('Ray Charles', 'Singular Genius: The Complete ABC Singles', '2011')\n",
      "('Etta James', 'At Last!', '1961')\n",
      "('B.B. King', 'The Blues', '1960')\n",
      "('Bo Diddley', 'Bo Diddley [1962]', '1962')\n",
      "('Etta James', 'Heart & Soul: A Retrospective', '2011')\n",
      "('Stevie Wonder', 'At the Close of a Century', '1999')\n",
      "('Ray Charles', 'Modern Sounds in Country and Western Music', '1962')\n",
      "('Dion', 'The Complete Laurie Singles', '2012')\n",
      "('Aaron Neville', 'Hercules: The Complete Singles 1960-1977', '2011')\n",
      "('B.B. King', \"Do the Boogie! B.B. King's Early '50s Classics\", '1988')\n",
      "('B.B. King', \"Singin' the Blues/The Blues\", '1992')\n",
      "('Etta James', 'The Essential Etta James', '2010')\n",
      "('B.B. King', 'His Definitive Greatest Hits', '1999')\n",
      "('Ray Charles', 'The Genius of Ray Charles', '1959')\n",
      "('B.B. King', 'The Best of the Early Years', '2007')\n",
      "('B.B. King', 'King of the Blues [Box]', '1992')\n",
      "('Miles Davis', 'Miles Davis [Members Edition]', '1996')\n",
      "('B.B. King', 'The Vintage Years', '2002')\n",
      "('Ray Charles', \"What'd I Say/Hallellujah I Love Her So\", '2013')\n",
      "('Bobby \"Blue\" Bland', 'Two Steps from the Blues', '1961')\n",
      "('Stevie Wonder', 'Song Review: A Greatest Hits Collection', '1996')\n",
      "('B.B. King', 'The Anthology', '2000')\n",
      "('B.B. King', 'Original Greatest Hits', '2005')\n",
      "('B.B. King', 'The Best of the Kent Singles 1958-1971', '2000')\n",
      "('Allen Toussaint', 'Everything I Do is Gonh Be Funky', '2011')\n",
      "('B.B. King', 'The Soul of B.B. King', '1963')\n",
      "('B.B. King', \"Singin' the Blues\", '1956')\n",
      "('B.B. King', 'The Best of B.B. King, Vol. 1', '1991')\n",
      "('Sam Cooke', 'Night Beat', '1963')\n",
      "('James Brown & His Famous Flames / James Brown', 'Live at the Apollo', '1963')\n",
      "('Ray Charles', 'Genius + Soul = Jazz', '1960')\n",
      "('B.B. King', 'The Anthology 1962-1998 [Bonus DVD]', '2004')\n",
      "('Ray Charles', 'Ray Charles [Atlantic]', '1957')\n",
      "('B.B. King', 'My Sweet Little Angel', '1993')\n",
      "('Bo Diddley', 'Go Bo Diddley', '1959')\n",
      "('B.B. King', 'Martin Scorsese Presents the Blues', '2003')\n",
      "('B.B. King', 'Classic Masters', '2002')\n",
      "('James Brown', 'Sex Machine', '1970')\n",
      "('Ray Charles / Betty Carter', 'Ray Charles & Betty Carter', '1961')\n",
      "('B.B. King', 'The Life of Riley [The Soundtrack]', '2012')\n",
      "('Ray Charles', 'Modern Sounds in Country and Western Music, Vols. 1 & 2', '2009')\n",
      "('James Brown', 'Best of Live at the Apollo: 50th Anniversary', '2012')\n",
      "('Bo Diddley', 'His Best', '1997')\n",
      "('Bobby \"Blue\" Bland', 'Angel in Anguish: The Deep, Deep Soul of Bobby Blue Bland', '2013')\n",
      "('The Platters', 'The Ballads of the Platters', '2013')\n",
      "('Ray Charles', 'Ray Charles at Newport', '1958')\n",
      "('B.B. King', 'Spotlight on Lucille', '1991')\n",
      "('B.B. King', 'Blues Kingpins', '2003')\n",
      "('B.B. King', 'His RPM Hits 1951-1957', '1999')\n",
      "('Burt Bacharach', 'The Look of Love: The Burt Bacharach Collection', '1998')\n",
      "('Bo Diddley', 'Bo Diddley [1958]', '1958')\n",
      "('B.B. King', 'Great Moments with B.B. King', '1981')\n",
      "('Ray Charles', 'The Best of Ray Charles: The Atlantic Years', '1994')\n",
      "('B.B. King', 'The Ultimate Collection', '2005')\n",
      "('Ray Charles', 'Ray [Original Soundtrack]', '2004')\n",
      "('Marvin Gaye', 'The Very Best of Marvin Gaye [Motown 2001]', '2001')\n",
      "('Smokey Robinson', 'The Solo Albums, Vol. 2', '2010')\n",
      "('Louis Prima', 'The Wildest!', '1957')\n",
      "('The Four Tops', '50th Anniversary: The Singles Collection 1964-1972', '2013')\n",
      "('B.B. King', '1949-1952', '2003')\n",
      "('B.B. King', 'Early Blues Boy Years, Vol. 2: 1952-54', '1995')\n",
      "('Bo Diddley', 'Have Guitar, Will Travel', '1959')\n",
      "('Ray Charles', 'The Genius Sings the Blues', '1961')\n",
      "('Ray Charles / Milt Jackson', 'Soul Brothers', '1957')\n",
      "('Ray Charles', 'Pure Genius: The Complete Atlantic Recordings (1952-1959)', '2005')\n",
      "('Ray Charles', 'The Birth of Soul', '1991')\n",
      "('Bo Diddley', 'Bo Diddley/Go Bo Diddley', '1986')\n",
      "('Etta James', 'R&B Dynamite', '1987')\n",
      "('Ray Charles', 'The Genius After Hours', '1961')\n",
      "('Sam Cooke', 'Portrait of a Legend 1951-1964', '2003')\n",
      "('B.B. King', 'Gold', '2006')\n",
      "('Ray Charles', 'Genius & Soul: The 50th Anniversary Collection', '1997')\n",
      "('Ray Charles', 'The Very Best of Ray Charles [Rhino]', '2000')\n",
      "40 80 80\n"
     ]
    }
   ],
   "source": [
    "file_names = [\"data/All_Music/early_rnb/all_music_\" + str(nb) + \".html\" for nb in range(1,71)]\n",
    "zipped = []\n",
    "\n",
    "def clean_text(text) :\n",
    "    return text.replace(\"\\n\", \"\").strip()\n",
    "\n",
    "for f in tqdm.tqdm_notebook(file_names[:2]) :\n",
    "    res = bs(open(f),\"html5lib\")\n",
    "    artists = [ clean_text(c.text) for c in res.findAll(attrs={'class': \"artist\"})][1:]\n",
    "    years   = [ clean_text(c.text) for c in res.findAll(attrs={'class': \"year\"  })][1:]\n",
    "    albums  = [ clean_text(c.text) for c in res.findAll(attrs={'class': \"title\" })][1:]\n",
    "    \n",
    "    zipped += zip(artists, albums, years)\n",
    "    \n",
    "    \n",
    "[print(z) for z in zipped]\n",
    "print(len(artists), len(albums), len(years))"
   ]
  },
  {
   "cell_type": "code",
   "execution_count": 24,
   "metadata": {},
   "outputs": [
    {
     "data": {
      "text/plain": [
       "['1965',\n",
       " '2012',\n",
       " '2009',\n",
       " '1963',\n",
       " '2002',\n",
       " '1957',\n",
       " '2011',\n",
       " '2011',\n",
       " '1961',\n",
       " '1960',\n",
       " '1962',\n",
       " '2011',\n",
       " '1999',\n",
       " '1962',\n",
       " '2012',\n",
       " '2011',\n",
       " '1988',\n",
       " '1992',\n",
       " '2010',\n",
       " '1999',\n",
       " '1959',\n",
       " '2007',\n",
       " '1992',\n",
       " '1996',\n",
       " '2002',\n",
       " '2013',\n",
       " '1961',\n",
       " '1996',\n",
       " '2000',\n",
       " '2005',\n",
       " '2000',\n",
       " '2011',\n",
       " '1963',\n",
       " '1956',\n",
       " '1991',\n",
       " '1963',\n",
       " '1963',\n",
       " '1960',\n",
       " '2004',\n",
       " '1957',\n",
       " '1965',\n",
       " '2012',\n",
       " '2009',\n",
       " '1963',\n",
       " '2002',\n",
       " '1957',\n",
       " '2011',\n",
       " '2011',\n",
       " '1961',\n",
       " '1960',\n",
       " '1962',\n",
       " '2011',\n",
       " '1999',\n",
       " '1962',\n",
       " '2012',\n",
       " '2011',\n",
       " '1988',\n",
       " '1992',\n",
       " '2010',\n",
       " '1999',\n",
       " '1959',\n",
       " '2007',\n",
       " '1992',\n",
       " '1996',\n",
       " '2002',\n",
       " '2013',\n",
       " '1961',\n",
       " '1996',\n",
       " '2000',\n",
       " '2005',\n",
       " '2000',\n",
       " '2011',\n",
       " '1963',\n",
       " '1956',\n",
       " '1991',\n",
       " '1963',\n",
       " '1963',\n",
       " '1960',\n",
       " '2004',\n",
       " '1957']"
      ]
     },
     "execution_count": 24,
     "metadata": {},
     "output_type": "execute_result"
    }
   ],
   "source": [
    "years"
   ]
  },
  {
   "cell_type": "code",
   "execution_count": 19,
   "metadata": {},
   "outputs": [
    {
     "data": {
      "text/plain": [
       "('Ray Charles', '1957', 'Ray Charles [Atlantic]')"
      ]
     },
     "execution_count": 19,
     "metadata": {},
     "output_type": "execute_result"
    }
   ],
   "source": [
    "zipped[-1]"
   ]
  }
 ],
 "metadata": {
  "kernelspec": {
   "display_name": "Python 3",
   "language": "python",
   "name": "python3"
  },
  "language_info": {
   "codemirror_mode": {
    "name": "ipython",
    "version": 3
   },
   "file_extension": ".py",
   "mimetype": "text/x-python",
   "name": "python",
   "nbconvert_exporter": "python",
   "pygments_lexer": "ipython3",
   "version": "3.6.7"
  }
 },
 "nbformat": 4,
 "nbformat_minor": 2
}
