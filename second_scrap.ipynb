{
 "cells": [
  {
   "cell_type": "code",
   "execution_count": 1,
   "metadata": {},
   "outputs": [],
   "source": [
    "import requests\n",
    "import urllib.request\n",
    "from urllib.parse import quote\n",
    "from tqdm import tqdm\n",
    "import contextlib\n",
    "import tqdm\n",
    "import json\n",
    "from bs4 import BeautifulSoup as bs"
   ]
  },
  {
   "cell_type": "markdown",
   "metadata": {},
   "source": [
    "# AllMusic parsing"
   ]
  },
  {
   "cell_type": "code",
   "execution_count": 2,
   "metadata": {},
   "outputs": [],
   "source": [
    "def parse_files(file_names) :\n",
    "    zipped = []\n",
    "\n",
    "    def clean_text(text) :\n",
    "        return text.replace(\"\\n\", \"\").strip()\n",
    "\n",
    "    for f in tqdm.tqdm_notebook(file_names) :\n",
    "        res = bs(open(f),\"html5lib\")\n",
    "        artists = [ clean_text(c.text) for c in res.findAll(attrs={'class': \"artist\"})][1:]\n",
    "        years   = [ clean_text(c.text) for c in res.findAll(attrs={'class': \"year\"  })][1:]\n",
    "        albums  = [ clean_text(c.text) for c in res.findAll(attrs={'class': \"title\" })][1:]\n",
    "\n",
    "        zipped += zip(years, artists, albums)\n",
    "        \n",
    "    return zipped\n"
   ]
  },
  {
   "cell_type": "markdown",
   "metadata": {},
   "source": [
    "#### early"
   ]
  },
  {
   "cell_type": "code",
   "execution_count": 3,
   "metadata": {},
   "outputs": [
    {
     "data": {
      "application/vnd.jupyter.widget-view+json": {
       "model_id": "59a8465149674a2780692fddce591a94",
       "version_major": 2,
       "version_minor": 0
      },
      "text/plain": [
       "HBox(children=(IntProgress(value=0, max=70), HTML(value='')))"
      ]
     },
     "metadata": {},
     "output_type": "display_data"
    },
    {
     "name": "stdout",
     "output_type": "stream",
     "text": [
      "\n"
     ]
    }
   ],
   "source": [
    "zipped = parse_files([\"data/All_Music/early_rnb/all_music_\" + str(nb) + \".html\" for nb in range(1,71)])\n",
    "json.dump(zipped, open(\"data/All_Music/parsed/am_early_rnb.json\", 'w'))"
   ]
  },
  {
   "cell_type": "markdown",
   "metadata": {},
   "source": [
    "#### contemporary "
   ]
  },
  {
   "cell_type": "code",
   "execution_count": 4,
   "metadata": {},
   "outputs": [
    {
     "data": {
      "application/vnd.jupyter.widget-view+json": {
       "model_id": "73d295d5747949ac81bc85bcf88c9de5",
       "version_major": 2,
       "version_minor": 0
      },
      "text/plain": [
       "HBox(children=(IntProgress(value=0, max=64), HTML(value='')))"
      ]
     },
     "metadata": {},
     "output_type": "display_data"
    },
    {
     "name": "stdout",
     "output_type": "stream",
     "text": [
      "\n"
     ]
    }
   ],
   "source": [
    "zipped = parse_files([\"data/All_Music/contemporary_rnb/cont_rnb_\" + str(nb) + \".html\" for nb in range(1,65)])\n",
    "json.dump(zipped, open(\"data/All_Music/parsed/am_contemporary_rnb.json\", 'w'))"
   ]
  },
  {
   "cell_type": "markdown",
   "metadata": {},
   "source": [
    "#### motown"
   ]
  },
  {
   "cell_type": "code",
   "execution_count": 5,
   "metadata": {},
   "outputs": [
    {
     "data": {
      "application/vnd.jupyter.widget-view+json": {
       "model_id": "5726916ed07c431eb9806197cfc10969",
       "version_major": 2,
       "version_minor": 0
      },
      "text/plain": [
       "HBox(children=(IntProgress(value=0, max=67), HTML(value='')))"
      ]
     },
     "metadata": {},
     "output_type": "display_data"
    },
    {
     "name": "stdout",
     "output_type": "stream",
     "text": [
      "\n"
     ]
    }
   ],
   "source": [
    "zipped = parse_files([\"data/All_Music/motown/motown_\" + str(nb) + \".html\" for nb in range(1,68)])\n",
    "json.dump(zipped, open(\"data/All_Music/parsed/am_motown.json\", 'w'))"
   ]
  }
 ],
 "metadata": {
  "kernelspec": {
   "display_name": "Python 3",
   "language": "python",
   "name": "python3"
  },
  "language_info": {
   "codemirror_mode": {
    "name": "ipython",
    "version": 3
   },
   "file_extension": ".py",
   "mimetype": "text/x-python",
   "name": "python",
   "nbconvert_exporter": "python",
   "pygments_lexer": "ipython3",
   "version": "3.6.7"
  }
 },
 "nbformat": 4,
 "nbformat_minor": 2
}
